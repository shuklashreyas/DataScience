{
 "cells": [
  {
   "cell_type": "markdown",
   "metadata": {},
   "source": [
    "# DS 3000 - Assignment 3\n",
    "\n",
    "**Student Name**: Shreyas Shukla\n",
    "\n",
    "**Date**: 21 Sep 2024\n",
    "\n",
    "\n",
    "### Submission Instructions\n",
    "Submit this `ipynb` file to canvas.\n",
    "\n",
    "The `ipynb` format stores outputs from the last time you ran the notebook.  (When you open a notebook it has the figures and outputs of the last time you ran it too).  To ensure that your submitted `ipynb` file represents your latest code, make sure to give a fresh run `Kernel > Restart & Run All` just before uploading the `ipynb` file to Canvas.\n",
    "\n",
    "### Academic Integrity\n",
    "\n",
    "**Writing your homework is an individual effort.**  You may discuss general python problems with other students but under no circumstances should you observe another student's code which was written for this assignment, from this year or past years.  Pop into office hours or DM us in MS Teams if you have a specific question about your work or if you would like another pair of eyes or talk through your code.\n",
    "\n",
    "Don't forget to cite websites which helped you solve a problem in a unique way.  You can do this in markdown near the code or with a simple one-line comment. You do not need to cite the official python documentation.\n",
    "\n",
    "**Documentation / style counts for credit**  Please refer to the Pep-8 style, to improve the readability and consistency of your Python code. For more information, read the following article [How to Write Beautiful Python Code With PEP 8](https://realpython.com/python-pep8/) or ask your TA's for tips.\n",
    "\n",
    "**NOTE:<span style='color:red'> Write python expressions to answer ALL questions below and ensure that you use the `print()` function to display the output.</span>** Each question should be answered in a new code cell. For example, your solution for question 1.1 should be in a different code cell from your solution for question 1.2."
   ]
  },
  {
   "cell_type": "code",
   "execution_count": null,
   "metadata": {},
   "outputs": [],
   "source": []
  },
  {
   "cell_type": "markdown",
   "metadata": {},
   "source": [
    "## Data Science Problem (50 pts)\n",
    "### Instructions\n",
    "\n",
    "You are hired as a Data Scientist for the NYC Taxi and Limousine Commission (TLC) and this company routinely collects trip data from all licensed cabs in NY. Your team would like to use this data in the future to understand how New Yorkers use these taxis. Your first assignment is to **analyze the data of the Green Taxis, and determine if its a viable source.**\n",
    "\n",
    "Your supervisor has requested that you perform your analysis using data from February 2023 and would like for you to present your findings during the next team meeting. Use a Jupyter notebook to explain your data wrangling and analytical steps to your colleagues. \n",
    "\n",
    "**Data & Documentation**\n",
    "\n",
    "- **Data Source:** https://d37ci6vzurychx.cloudfront.net/trip-data/green_tripdata_2023-02.parquet\n",
    "- **Data Dictionary:** [Green Trips Data Dictionary](https://www1.nyc.gov/assets/tlc/downloads/pdf/data_dictionary_trip_records_green.pdf).\n",
    "\n",
    "The TLC trip record data and a description of the initiative can be found at the following link: https://www1.nyc.gov/site/tlc/about/tlc-trip-record-data.page\n",
    "\n",
    "**`Note:`** Ensure that you explain the results from each question.\n",
    "\n",
    "\n",
    "**In this assignment you will use the Pandas library. Pandas allows us to load data that's stored in a various formats, e.g. excel, csv, txt, parquet, etc. In this assignment, you will learn to read data in parquet format which is one of the preferred formats when working with `Big Data`. [Click here to learn more about parquet files](https://towardsdatascience.com/csv-files-for-storage-no-thanks-theres-a-better-option-72c78a414d1d)**\n",
    "\n",
    "I also provided starter code below to help you to read the data in parquet format. First, you'll need to install a new library called *fastparquet*."
   ]
  },
  {
   "cell_type": "code",
   "execution_count": 6,
   "metadata": {},
   "outputs": [
    {
     "name": "stdout",
     "output_type": "stream",
     "text": [
      "Requirement already satisfied: fastparquet in /opt/homebrew/Cellar/jupyterlab/4.2.3/libexec/lib/python3.12/site-packages (2024.5.0)\n",
      "Requirement already satisfied: pandas>=1.5.0 in /opt/homebrew/Cellar/jupyterlab/4.2.3/libexec/lib/python3.12/site-packages (from fastparquet) (2.2.3)\n",
      "Requirement already satisfied: numpy in /opt/homebrew/Cellar/jupyterlab/4.2.3/libexec/lib/python3.12/site-packages (from fastparquet) (2.1.1)\n",
      "Requirement already satisfied: cramjam>=2.3 in /opt/homebrew/Cellar/jupyterlab/4.2.3/libexec/lib/python3.12/site-packages (from fastparquet) (2.8.3)\n",
      "Requirement already satisfied: fsspec in /opt/homebrew/Cellar/jupyterlab/4.2.3/libexec/lib/python3.12/site-packages (from fastparquet) (2024.9.0)\n",
      "Requirement already satisfied: packaging in /opt/homebrew/Cellar/jupyterlab/4.2.3/libexec/lib/python3.12/site-packages (from fastparquet) (24.1)\n",
      "Requirement already satisfied: python-dateutil>=2.8.2 in /opt/homebrew/Cellar/jupyterlab/4.2.3/libexec/lib/python3.12/site-packages (from pandas>=1.5.0->fastparquet) (2.9.0.post0)\n",
      "Requirement already satisfied: pytz>=2020.1 in /opt/homebrew/Cellar/jupyterlab/4.2.3/libexec/lib/python3.12/site-packages (from pandas>=1.5.0->fastparquet) (2024.2)\n",
      "Requirement already satisfied: tzdata>=2022.7 in /opt/homebrew/Cellar/jupyterlab/4.2.3/libexec/lib/python3.12/site-packages (from pandas>=1.5.0->fastparquet) (2024.1)\n",
      "Requirement already satisfied: six>=1.5 in /opt/homebrew/Cellar/jupyterlab/4.2.3/libexec/lib/python3.12/site-packages (from python-dateutil>=2.8.2->pandas>=1.5.0->fastparquet) (1.16.0)\n",
      "Note: you may need to restart the kernel to use updated packages.\n"
     ]
    }
   ],
   "source": [
    "#run this cell to install the fast parquet library\n",
    "%pip install fastparquet"
   ]
  },
  {
   "cell_type": "markdown",
   "metadata": {},
   "source": [
    "## 1. Load the data\n",
    "Load the NYC Green Taxi Trip Records data directly from the URL into a data frame called tripdata_df. "
   ]
  },
  {
   "cell_type": "code",
   "execution_count": 18,
   "metadata": {},
   "outputs": [
    {
     "data": {
      "text/html": [
       "<div>\n",
       "<style scoped>\n",
       "    .dataframe tbody tr th:only-of-type {\n",
       "        vertical-align: middle;\n",
       "    }\n",
       "\n",
       "    .dataframe tbody tr th {\n",
       "        vertical-align: top;\n",
       "    }\n",
       "\n",
       "    .dataframe thead th {\n",
       "        text-align: right;\n",
       "    }\n",
       "</style>\n",
       "<table border=\"1\" class=\"dataframe\">\n",
       "  <thead>\n",
       "    <tr style=\"text-align: right;\">\n",
       "      <th></th>\n",
       "      <th>VendorID</th>\n",
       "      <th>lpep_pickup_datetime</th>\n",
       "      <th>lpep_dropoff_datetime</th>\n",
       "      <th>store_and_fwd_flag</th>\n",
       "      <th>RatecodeID</th>\n",
       "      <th>PULocationID</th>\n",
       "      <th>DOLocationID</th>\n",
       "      <th>passenger_count</th>\n",
       "      <th>trip_distance</th>\n",
       "      <th>fare_amount</th>\n",
       "      <th>extra</th>\n",
       "      <th>mta_tax</th>\n",
       "      <th>tip_amount</th>\n",
       "      <th>tolls_amount</th>\n",
       "      <th>ehail_fee</th>\n",
       "      <th>improvement_surcharge</th>\n",
       "      <th>total_amount</th>\n",
       "      <th>payment_type</th>\n",
       "      <th>trip_type</th>\n",
       "      <th>congestion_surcharge</th>\n",
       "    </tr>\n",
       "  </thead>\n",
       "  <tbody>\n",
       "    <tr>\n",
       "      <th>0</th>\n",
       "      <td>1.0</td>\n",
       "      <td>2023-02-01 00:46:22</td>\n",
       "      <td>2023-02-01 01:05:57</td>\n",
       "      <td>N</td>\n",
       "      <td>1.0</td>\n",
       "      <td>74.0</td>\n",
       "      <td>265.0</td>\n",
       "      <td>1.0</td>\n",
       "      <td>10.80</td>\n",
       "      <td>42.9</td>\n",
       "      <td>1.0</td>\n",
       "      <td>1.5</td>\n",
       "      <td>0.00</td>\n",
       "      <td>0.0</td>\n",
       "      <td>NaN</td>\n",
       "      <td>1.0</td>\n",
       "      <td>45.40</td>\n",
       "      <td>2.0</td>\n",
       "      <td>1.0</td>\n",
       "      <td>0.00</td>\n",
       "    </tr>\n",
       "    <tr>\n",
       "      <th>1</th>\n",
       "      <td>2.0</td>\n",
       "      <td>2023-02-01 00:05:09</td>\n",
       "      <td>2023-02-01 00:22:42</td>\n",
       "      <td>N</td>\n",
       "      <td>1.0</td>\n",
       "      <td>216.0</td>\n",
       "      <td>196.0</td>\n",
       "      <td>1.0</td>\n",
       "      <td>4.76</td>\n",
       "      <td>23.3</td>\n",
       "      <td>1.0</td>\n",
       "      <td>0.5</td>\n",
       "      <td>0.00</td>\n",
       "      <td>0.0</td>\n",
       "      <td>NaN</td>\n",
       "      <td>1.0</td>\n",
       "      <td>25.80</td>\n",
       "      <td>2.0</td>\n",
       "      <td>1.0</td>\n",
       "      <td>0.00</td>\n",
       "    </tr>\n",
       "    <tr>\n",
       "      <th>2</th>\n",
       "      <td>2.0</td>\n",
       "      <td>2023-02-01 00:03:47</td>\n",
       "      <td>2023-02-01 00:27:30</td>\n",
       "      <td>N</td>\n",
       "      <td>1.0</td>\n",
       "      <td>7.0</td>\n",
       "      <td>114.0</td>\n",
       "      <td>1.0</td>\n",
       "      <td>6.32</td>\n",
       "      <td>30.3</td>\n",
       "      <td>1.0</td>\n",
       "      <td>0.5</td>\n",
       "      <td>8.89</td>\n",
       "      <td>0.0</td>\n",
       "      <td>NaN</td>\n",
       "      <td>1.0</td>\n",
       "      <td>44.44</td>\n",
       "      <td>1.0</td>\n",
       "      <td>1.0</td>\n",
       "      <td>2.75</td>\n",
       "    </tr>\n",
       "    <tr>\n",
       "      <th>3</th>\n",
       "      <td>2.0</td>\n",
       "      <td>2023-01-31 23:30:56</td>\n",
       "      <td>2023-01-31 23:51:40</td>\n",
       "      <td>N</td>\n",
       "      <td>1.0</td>\n",
       "      <td>74.0</td>\n",
       "      <td>239.0</td>\n",
       "      <td>1.0</td>\n",
       "      <td>3.50</td>\n",
       "      <td>16.3</td>\n",
       "      <td>1.0</td>\n",
       "      <td>0.5</td>\n",
       "      <td>0.00</td>\n",
       "      <td>0.0</td>\n",
       "      <td>NaN</td>\n",
       "      <td>1.0</td>\n",
       "      <td>21.55</td>\n",
       "      <td>2.0</td>\n",
       "      <td>1.0</td>\n",
       "      <td>2.75</td>\n",
       "    </tr>\n",
       "    <tr>\n",
       "      <th>4</th>\n",
       "      <td>2.0</td>\n",
       "      <td>2023-02-01 00:15:05</td>\n",
       "      <td>2023-02-01 00:26:02</td>\n",
       "      <td>N</td>\n",
       "      <td>1.0</td>\n",
       "      <td>82.0</td>\n",
       "      <td>223.0</td>\n",
       "      <td>1.0</td>\n",
       "      <td>3.14</td>\n",
       "      <td>17.0</td>\n",
       "      <td>1.0</td>\n",
       "      <td>0.5</td>\n",
       "      <td>0.00</td>\n",
       "      <td>0.0</td>\n",
       "      <td>NaN</td>\n",
       "      <td>1.0</td>\n",
       "      <td>19.50</td>\n",
       "      <td>2.0</td>\n",
       "      <td>1.0</td>\n",
       "      <td>0.00</td>\n",
       "    </tr>\n",
       "  </tbody>\n",
       "</table>\n",
       "</div>"
      ],
      "text/plain": [
       "   VendorID lpep_pickup_datetime lpep_dropoff_datetime store_and_fwd_flag  \\\n",
       "0       1.0  2023-02-01 00:46:22   2023-02-01 01:05:57                  N   \n",
       "1       2.0  2023-02-01 00:05:09   2023-02-01 00:22:42                  N   \n",
       "2       2.0  2023-02-01 00:03:47   2023-02-01 00:27:30                  N   \n",
       "3       2.0  2023-01-31 23:30:56   2023-01-31 23:51:40                  N   \n",
       "4       2.0  2023-02-01 00:15:05   2023-02-01 00:26:02                  N   \n",
       "\n",
       "   RatecodeID  PULocationID  DOLocationID  passenger_count  trip_distance  \\\n",
       "0         1.0          74.0         265.0              1.0          10.80   \n",
       "1         1.0         216.0         196.0              1.0           4.76   \n",
       "2         1.0           7.0         114.0              1.0           6.32   \n",
       "3         1.0          74.0         239.0              1.0           3.50   \n",
       "4         1.0          82.0         223.0              1.0           3.14   \n",
       "\n",
       "   fare_amount  extra  mta_tax  tip_amount  tolls_amount  ehail_fee  \\\n",
       "0         42.9    1.0      1.5        0.00           0.0        NaN   \n",
       "1         23.3    1.0      0.5        0.00           0.0        NaN   \n",
       "2         30.3    1.0      0.5        8.89           0.0        NaN   \n",
       "3         16.3    1.0      0.5        0.00           0.0        NaN   \n",
       "4         17.0    1.0      0.5        0.00           0.0        NaN   \n",
       "\n",
       "   improvement_surcharge  total_amount  payment_type  trip_type  \\\n",
       "0                    1.0         45.40           2.0        1.0   \n",
       "1                    1.0         25.80           2.0        1.0   \n",
       "2                    1.0         44.44           1.0        1.0   \n",
       "3                    1.0         21.55           2.0        1.0   \n",
       "4                    1.0         19.50           2.0        1.0   \n",
       "\n",
       "   congestion_surcharge  \n",
       "0                  0.00  \n",
       "1                  0.00  \n",
       "2                  2.75  \n",
       "3                  2.75  \n",
       "4                  0.00  "
      ]
     },
     "execution_count": 18,
     "metadata": {},
     "output_type": "execute_result"
    }
   ],
   "source": [
    "import pandas as pd\n",
    "import numpy as np\n",
    "np.float_ = np.float64\n",
    "\n",
    "\n",
    "tripdata_df = pd.read_parquet(path = 'https://d37ci6vzurychx.cloudfront.net/trip-data/green_tripdata_2023-02.parquet', #provide the URL to the data source\n",
    "                      engine = 'fastparquet')\n",
    "\n",
    "tripdata_df.head()"
   ]
  },
  {
   "cell_type": "markdown",
   "metadata": {},
   "source": [
    "## 2. Inspect the Data (5 pts) \n",
    "Inspect the data and perform the following: \n",
    "1. display the dimensions, and indicate if the variables have suitable types.\n",
    "2. convert all variables to suitable types"
   ]
  },
  {
   "cell_type": "code",
   "execution_count": 19,
   "metadata": {},
   "outputs": [
    {
     "name": "stdout",
     "output_type": "stream",
     "text": [
      "<class 'pandas.core.frame.DataFrame'>\n",
      "RangeIndex: 64809 entries, 0 to 64808\n",
      "Data columns (total 20 columns):\n",
      " #   Column                 Non-Null Count  Dtype         \n",
      "---  ------                 --------------  -----         \n",
      " 0   VendorID               64809 non-null  float64       \n",
      " 1   lpep_pickup_datetime   64809 non-null  datetime64[us]\n",
      " 2   lpep_dropoff_datetime  64809 non-null  datetime64[us]\n",
      " 3   store_and_fwd_flag     59988 non-null  object        \n",
      " 4   RatecodeID             59988 non-null  float64       \n",
      " 5   PULocationID           64809 non-null  float64       \n",
      " 6   DOLocationID           64809 non-null  float64       \n",
      " 7   passenger_count        59988 non-null  float64       \n",
      " 8   trip_distance          64809 non-null  float64       \n",
      " 9   fare_amount            64809 non-null  float64       \n",
      " 10  extra                  64809 non-null  float64       \n",
      " 11  mta_tax                64809 non-null  float64       \n",
      " 12  tip_amount             64809 non-null  float64       \n",
      " 13  tolls_amount           64809 non-null  float64       \n",
      " 14  ehail_fee              0 non-null      float64       \n",
      " 15  improvement_surcharge  64809 non-null  float64       \n",
      " 16  total_amount           64809 non-null  float64       \n",
      " 17  payment_type           59988 non-null  float64       \n",
      " 18  trip_type              59983 non-null  float64       \n",
      " 19  congestion_surcharge   59988 non-null  float64       \n",
      "dtypes: datetime64[us](2), float64(17), object(1)\n",
      "memory usage: 9.9+ MB\n"
     ]
    },
    {
     "data": {
      "text/plain": [
       "VendorID                       category\n",
       "lpep_pickup_datetime     datetime64[us]\n",
       "lpep_dropoff_datetime    datetime64[us]\n",
       "store_and_fwd_flag               object\n",
       "RatecodeID                     category\n",
       "PULocationID                    float64\n",
       "DOLocationID                    float64\n",
       "passenger_count                 float64\n",
       "trip_distance                   float64\n",
       "fare_amount                     float64\n",
       "extra                           float64\n",
       "mta_tax                         float64\n",
       "tip_amount                      float64\n",
       "tolls_amount                    float64\n",
       "ehail_fee                       float64\n",
       "improvement_surcharge           float64\n",
       "total_amount                    float64\n",
       "payment_type                   category\n",
       "trip_type                      category\n",
       "congestion_surcharge            float64\n",
       "dtype: object"
      ]
     },
     "execution_count": 19,
     "metadata": {},
     "output_type": "execute_result"
    }
   ],
   "source": [
    "tripdata_df.info()\n",
    "\n",
    "# Converting to categorical data type \n",
    "tripdata_df['VendorID'] = tripdata_df['VendorID'].astype('category')\n",
    "tripdata_df['RatecodeID'] = tripdata_df['RatecodeID'].astype('category')\n",
    "tripdata_df['payment_type'] = tripdata_df['payment_type'].astype('category')\n",
    "tripdata_df['trip_type'] = tripdata_df['trip_type'].astype('category')\n",
    "\n",
    "\n",
    "tripdata_df.dtypes"
   ]
  },
  {
   "cell_type": "markdown",
   "metadata": {},
   "source": [
    "## 3. Types of Data (2 pts) \n",
    "Are there any categorical data in this dataset. If they exist, demonstrate at least two categorical variables and indicate if they are nominal or ordinal (hint: read the data dictionary above which describes all fields in the data)"
   ]
  },
  {
   "cell_type": "code",
   "execution_count": 27,
   "metadata": {},
   "outputs": [
    {
     "name": "stdout",
     "output_type": "stream",
     "text": [
      "VendorID                       category\n",
      "lpep_pickup_datetime     datetime64[us]\n",
      "lpep_dropoff_datetime    datetime64[us]\n",
      "store_and_fwd_flag               object\n",
      "RatecodeID                     category\n",
      "PULocationID                    float64\n",
      "DOLocationID                    float64\n",
      "passenger_count                 float64\n",
      "trip_distance                   float64\n",
      "fare_amount                     float64\n",
      "extra                           float64\n",
      "mta_tax                         float64\n",
      "tip_amount                      float64\n",
      "tolls_amount                    float64\n",
      "ehail_fee                       float64\n",
      "improvement_surcharge           float64\n",
      "total_amount                    float64\n",
      "payment_type                   category\n",
      "trip_type                      category\n",
      "congestion_surcharge            float64\n",
      "dtype: object\n",
      "\n",
      "Categorical columns in the dataset:\n",
      "Index(['VendorID', 'store_and_fwd_flag', 'RatecodeID', 'payment_type',\n",
      "       'trip_type'],\n",
      "      dtype='object')\n",
      "\n",
      "VendorID unique values:\n",
      "[1.0, 2.0]\n",
      "Categories (2, float64): [1.0, 2.0]\n",
      "Explanation: 'VendorID' is a nominal variable because it represents distinct categories (vendors) with no inherent order.\n",
      "\n",
      "payment_type unique values:\n",
      "[2.0, 1.0, 3.0, 4.0]\n",
      "Categories (4, float64): [1.0, 2.0, 3.0, 4.0]\n",
      "Explanation: 'payment_type' is an ordinal variable because it represents different methods of payment that have a meaningful order (e.g., cash, credit).\n"
     ]
    }
   ],
   "source": [
    "# Checking for categorical variables\n",
    "print(tripdata_df.dtypes)\n",
    "\n",
    "# Extract columns with 'category' or 'object' type\n",
    "categorical_columns = tripdata_df.select_dtypes(include=['category', 'object']).columns\n",
    "print(\"\\nCategorical columns in the dataset:\")\n",
    "print(categorical_columns)\n",
    "\n",
    "\n",
    "# 1. 'VendorID' - Nominal (categories without an order)\n",
    "print(\"\\nVendorID unique values:\")\n",
    "print(tripdata_df['VendorID'].unique())\n",
    "print(\"Explanation: 'VendorID' is a nominal variable because it represents distinct categories (vendors) with no inherent order.\")\n",
    "\n",
    "# 2. 'payment_type' - Ordinal (categories with a meaningful order)\n",
    "print(\"\\npayment_type unique values:\")\n",
    "print(tripdata_df['payment_type'].unique())\n",
    "print(\"Explanation: 'payment_type' is an ordinal variable because it represents different methods of payment that have a meaningful order (e.g., cash, credit).\")\n"
   ]
  },
  {
   "cell_type": "markdown",
   "metadata": {},
   "source": [
    "## QUESTION 3 : \n",
    "\n",
    "VendorID:\n",
    "\n",
    "Description: This field represents the ID of the vendor.\n",
    "Type: Nominal. It’s a category representing different vendors, but there’s no inherent order between them.\n",
    "\n",
    "payment_type:\n",
    "\n",
    "Description: This field represents the payment method used for the trip.\n",
    "Type: Ordinal. This is an ordinal variable because the payment types have a meaningful order (e.g., cash, credit card, etc.), where some might be preferred over others depending on the context."
   ]
  },
  {
   "cell_type": "markdown",
   "metadata": {},
   "source": [
    "## 4. Missing Values (10 pts) \n",
    "Evaluate the frequency of missing values in the dataset and perform the following:\n",
    "1. explain if missing values are an isolated case or a widespread issue? \n",
    "2. what method would you recommend to handle missing data?\n",
    "3. write the suitable code to handle the missing values."
   ]
  },
  {
   "cell_type": "code",
   "execution_count": 15,
   "metadata": {},
   "outputs": [
    {
     "name": "stdout",
     "output_type": "stream",
     "text": [
      "store_and_fwd_flag        7.438782\n",
      "RatecodeID                7.438782\n",
      "passenger_count           7.438782\n",
      "ehail_fee               100.000000\n",
      "payment_type              7.438782\n",
      "trip_type                 7.446497\n",
      "congestion_surcharge      7.438782\n",
      "dtype: float64\n"
     ]
    }
   ],
   "source": [
    "missing_values = tripdata_df.isnull().sum()\n",
    "missing_percentage = (missing_values / len(tripdata_df)) * 100\n",
    "print(missing_percentage[missing_percentage > 0])"
   ]
  },
  {
   "cell_type": "markdown",
   "metadata": {},
   "source": [
    "## QUESTION 4 : \n",
    "There are missing values in several columns (store_and_fwd_flag, RatecodeID, passenger_count, payment_type, trip_type, congestion_surcharge), all missing in about 7.43% of the rows, suggesting that missing values are not isolated but rather a moderate issue across multiple fields.The column ehail_fee has 100% missing values, indicating that this column may be irrelevant for the analysis, as it contains no data"
   ]
  },
  {
   "cell_type": "markdown",
   "metadata": {},
   "source": [
    "## 5. Invalid Data (10 pts) \n",
    "Explore the data to determine if there are any invalid values and perform the following: \n",
    "1. demonstrate at least three issues that you found. **`NOTE`: The issues that you found should not include any aspects from the previous questions.**\n",
    "2. write suitable code to handle the invalid data that you found."
   ]
  },
  {
   "cell_type": "markdown",
   "metadata": {},
   "source": [
    "Negative or zero trip distances:\n",
    "\n",
    "A trip distance of 0 or less is likely invalid unless it’s a rare case (like a very short ride or entry error).\n",
    "\n",
    "Negative or zero fare amounts:\n",
    "\n",
    "Fares should be positive for all completed trips, so any negative or zero fare values may indicate invalid data.\n",
    "\n",
    "Unrealistic passenger counts:\n",
    "\n",
    "A passenger_count of 0 for non-shared rides could be invalid, and very high values (e.g., more than 6) might indicate an error, as taxis usually accommodate a limited number of passengers."
   ]
  },
  {
   "cell_type": "code",
   "execution_count": 20,
   "metadata": {},
   "outputs": [
    {
     "name": "stdout",
     "output_type": "stream",
     "text": [
      "Filtering out invalid trip distances (<= 0)...\n",
      "Found 2857 rows with invalid trip distances.\n",
      "\n",
      "Filtering out invalid fare amounts (<= 0)...\n",
      "Found 163 rows with invalid fare amounts.\n",
      "\n",
      "Filtering out invalid passenger counts (<= 0 or > 6)...\n",
      "Found 343 rows with invalid passenger counts.\n",
      "\n",
      "Dataset summary after cleaning:\n",
      "<class 'pandas.core.frame.DataFrame'>\n",
      "Index: 56780 entries, 0 to 59987\n",
      "Data columns (total 20 columns):\n",
      " #   Column                 Non-Null Count  Dtype         \n",
      "---  ------                 --------------  -----         \n",
      " 0   VendorID               56780 non-null  category      \n",
      " 1   lpep_pickup_datetime   56780 non-null  datetime64[us]\n",
      " 2   lpep_dropoff_datetime  56780 non-null  datetime64[us]\n",
      " 3   store_and_fwd_flag     56780 non-null  object        \n",
      " 4   RatecodeID             56780 non-null  category      \n",
      " 5   PULocationID           56780 non-null  float64       \n",
      " 6   DOLocationID           56780 non-null  float64       \n",
      " 7   passenger_count        56780 non-null  float64       \n",
      " 8   trip_distance          56780 non-null  float64       \n",
      " 9   fare_amount            56780 non-null  float64       \n",
      " 10  extra                  56780 non-null  float64       \n",
      " 11  mta_tax                56780 non-null  float64       \n",
      " 12  tip_amount             56780 non-null  float64       \n",
      " 13  tolls_amount           56780 non-null  float64       \n",
      " 14  ehail_fee              0 non-null      float64       \n",
      " 15  improvement_surcharge  56780 non-null  float64       \n",
      " 16  total_amount           56780 non-null  float64       \n",
      " 17  payment_type           56780 non-null  category      \n",
      " 18  trip_type              56775 non-null  category      \n",
      " 19  congestion_surcharge   56780 non-null  float64       \n",
      "dtypes: category(4), datetime64[us](2), float64(13), object(1)\n",
      "memory usage: 7.6+ MB\n"
     ]
    }
   ],
   "source": [
    "# 1. Remove rows with non-positive trip distances (<= 0)\n",
    "print(\"Filtering out invalid trip distances (<= 0)...\")\n",
    "invalid_trip_distance = tripdata_df[tripdata_df['trip_distance'] <= 0]\n",
    "print(f\"Found {len(invalid_trip_distance)} rows with invalid trip distances.\")\n",
    "tripdata_df = tripdata_df[tripdata_df['trip_distance'] > 0]\n",
    "\n",
    "# 2. Remove rows with non-positive fare amounts (<= 0)\n",
    "print(\"\\nFiltering out invalid fare amounts (<= 0)...\")\n",
    "invalid_fare_amount = tripdata_df[tripdata_df['fare_amount'] <= 0]\n",
    "print(f\"Found {len(invalid_fare_amount)} rows with invalid fare amounts.\")\n",
    "tripdata_df = tripdata_df[tripdata_df['fare_amount'] > 0]\n",
    "\n",
    "# 3. Remove rows with unrealistic passenger counts (<= 0 or > 6)\n",
    "print(\"\\nFiltering out invalid passenger counts (<= 0 or > 6)...\")\n",
    "invalid_passenger_count = tripdata_df[(tripdata_df['passenger_count'] <= 0) | (tripdata_df['passenger_count'] > 6)]\n",
    "print(f\"Found {len(invalid_passenger_count)} rows with invalid passenger counts.\")\n",
    "tripdata_df = tripdata_df[(tripdata_df['passenger_count'] > 0) & (tripdata_df['passenger_count'] <= 6)]\n",
    "\n",
    "# Final dataset overview after cleaning\n",
    "print(\"\\nDataset summary after cleaning:\")\n",
    "tripdata_df.info()\n"
   ]
  },
  {
   "cell_type": "markdown",
   "metadata": {},
   "source": [
    "<span style='color:red'>**Answer the following questions using the prepared data.**</span>"
   ]
  },
  {
   "cell_type": "markdown",
   "metadata": {},
   "source": [
    "## 6. Data Visualization (10 pts) \n",
    "Create bar charts that show: \n",
    "1. the most common way that New Yorkers request/hail a cab. \n",
    "2. the most common pick-up locations (display the top 5 locations). \n",
    "3. the most common drop-off locations (display the top 5 locations). \n",
    "\n",
    "Explain each chart."
   ]
  },
  {
   "cell_type": "code",
   "execution_count": 22,
   "metadata": {},
   "outputs": [
    {
     "data": {
      "text/plain": [
       "<Axes: title={'center': 'Most Common Ways to Hail a Cab'}, xlabel='trip_type'>"
      ]
     },
     "execution_count": 22,
     "metadata": {},
     "output_type": "execute_result"
    },
    {
     "data": {
      "image/png": "[encoded data removed]",
      "text/plain": [
       "<Figure size 640x480 with 1 Axes>"
      ]
     },
     "metadata": {},
     "output_type": "display_data"
    }
   ],
   "source": [
    "# The most common way that New Yorkers request/hail a cab. \n",
    "trip_type_counts = tripdata_df['trip_type'].value_counts()\n",
    "\n",
    "\n",
    "trip_type_counts.plot(kind='bar', title='Most Common Ways to Hail a Cab', rot=0, color='skyblue')\n"
   ]
  },
  {
   "cell_type": "markdown",
   "metadata": {},
   "source": [
    "This bar chart shows the number of trips categorized by how they were hailed, either via Street-Hail or Dispatch. The chart highlights which method is more commonly used by New Yorkers to hail taxis, providing insight into rider preferences."
   ]
  },
  {
   "cell_type": "code",
   "execution_count": 21,
   "metadata": {},
   "outputs": [
    {
     "data": {
      "text/plain": [
       "<Axes: title={'center': 'Top 5 Pick-up Locations'}, xlabel='PULocationID'>"
      ]
     },
     "execution_count": 21,
     "metadata": {},
     "output_type": "execute_result"
    },
    {
     "data": {
      "image/png": "[encoded data removed]",
      "text/plain": [
       "<Figure size 640x480 with 1 Axes>"
      ]
     },
     "metadata": {},
     "output_type": "display_data"
    }
   ],
   "source": [
    "# The most common pick-up locations (display the top 5 locations). \n",
    "pickup_counts = tripdata_df['PULocationID'].value_counts().head(5)\n",
    "\n",
    "\n",
    "pickup_counts.plot(kind='bar', title='Top 5 Pick-up Locations', rot=0, color='green')\n"
   ]
  },
  {
   "cell_type": "markdown",
   "metadata": {},
   "source": [
    "This bar chart displays the top 5 most frequent pick-up locations by their PULocationID. It helps us understand the most popular areas where taxis are being hailed, which can be useful for taxi routing and fleet management."
   ]
  },
  {
   "cell_type": "code",
   "execution_count": 23,
   "metadata": {},
   "outputs": [
    {
     "data": {
      "text/plain": [
       "<Axes: title={'center': 'Top 5 Drop-off Locations'}, xlabel='DOLocationID'>"
      ]
     },
     "execution_count": 23,
     "metadata": {},
     "output_type": "execute_result"
    },
    {
     "data": {
      "image/png": "[encoded data removed]",
      "text/plain": [
       "<Figure size 640x480 with 1 Axes>"
      ]
     },
     "metadata": {},
     "output_type": "display_data"
    }
   ],
   "source": [
    "# The most common drop-off locations (display the top 5 locations). \n",
    "dropoff_counts = tripdata_df['DOLocationID'].value_counts().head(5)\n",
    "\n",
    "dropoff_counts.plot(kind='bar', title='Top 5 Drop-off Locations', rot=0, color='orange')\n"
   ]
  },
  {
   "cell_type": "markdown",
   "metadata": {},
   "source": [
    "This bar chart shows the top 5 most frequent drop-off locations by their DOLocationID.\n",
    "Understanding drop-off locations can help in determining the most common destinations for taxi trips, allowing the TLC to optimize services and infrastructure."
   ]
  },
  {
   "cell_type": "markdown",
   "metadata": {},
   "source": [
    "## 7. Data Analysis (10 pts)\n",
    "Write suitable code to answer the following:\n",
    "1. On average, how far do New Yorkers usually travel using these taxis?\n",
    "2. What is the most expensive and least expensive trip? \n",
    "3. What is the minimum, average and maximum **tip amount** for all trips that are 1) under 2 miles and 2) over 2 miles (i.e. >= 2)? \n",
    "\n",
    "Explain the results.\n",
    "\n",
    "*`TIP`: If the answers from your analysis in this question contains erroneous or invalid numeric values, this means that the data needs to be cleaned to ensure that the analytical results are coherent.*"
   ]
  },
  {
   "cell_type": "code",
   "execution_count": 25,
   "metadata": {},
   "outputs": [
    {
     "name": "stdout",
     "output_type": "stream",
     "text": [
      "On average, New Yorkers travel 2.83 miles using green taxis.\n"
     ]
    }
   ],
   "source": [
    "# On average, how far do New Yorkers usually travel using these taxis?\n",
    "avg = tripdata_df['trip_distance'].mean()\n",
    "\n",
    "print(f\"On average, New Yorkers travel {avg:.2f} miles using green taxis.\")\n"
   ]
  },
  {
   "cell_type": "code",
   "execution_count": 26,
   "metadata": {},
   "outputs": [
    {
     "name": "stdout",
     "output_type": "stream",
     "text": [
      "The most expensive trip cost $322.35.\n",
      "The least expensive trip cost $1.01.\n"
     ]
    }
   ],
   "source": [
    "# What is the most expensive and least expensive trip? \n",
    "most_expensive_trip = tripdata_df['total_amount'].max()\n",
    "least_expensive_trip = tripdata_df['total_amount'].min()\n",
    "\n",
    "print(f\"The most expensive trip cost ${most_expensive_trip:.2f}.\")\n",
    "print(f\"The least expensive trip cost ${least_expensive_trip:.2f}.\")\n"
   ]
  },
  {
   "cell_type": "code",
   "execution_count": 26,
   "metadata": {},
   "outputs": [
    {
     "name": "stdout",
     "output_type": "stream",
     "text": [
      "Tip amount statistics for trips under 2 miles:\n",
      "Minimum tip: $0.00\n",
      "Average tip: $1.37\n",
      "Maximum tip: $80.00\n",
      "\n",
      "Tip amount statistics for trips 2 miles and over:\n",
      "Minimum tip: $0.00\n",
      "Average tip: $3.00\n",
      "Maximum tip: $75.82\n"
     ]
    }
   ],
   "source": [
    "#What is the minimum, average and maximum **tip amount** for all trips that are 1) under 2 miles and 2) over 2 miles (i.e. >= 2)? \n",
    "\n",
    "# Trips under 2 miles\n",
    "under_2_miles = tripdata_df[tripdata_df['trip_distance'] < 2]\n",
    "under_2_miles_tip_stats = under_2_miles['tip_amount'].agg(['min', 'mean', 'max'])\n",
    "\n",
    "# Trips 2 miles and over\n",
    "over_2_miles = tripdata_df[tripdata_df['trip_distance'] >= 2]\n",
    "over_2_miles_tip_stats = over_2_miles['tip_amount'].agg(['min', 'mean', 'max'])\n",
    "\n",
    "\n",
    "print(\"Tip amount statistics for trips under 2 miles:\")\n",
    "print(f\"Minimum tip: ${under_2_miles_tip_stats['min']:.2f}\")\n",
    "print(f\"Average tip: ${under_2_miles_tip_stats['mean']:.2f}\")\n",
    "print(f\"Maximum tip: ${under_2_miles_tip_stats['max']:.2f}\\n\")\n",
    "\n",
    "print(\"Tip amount statistics for trips 2 miles and over:\")\n",
    "print(f\"Minimum tip: ${over_2_miles_tip_stats['min']:.2f}\")\n",
    "print(f\"Average tip: ${over_2_miles_tip_stats['mean']:.2f}\")\n",
    "print(f\"Maximum tip: ${over_2_miles_tip_stats['max']:.2f}\")\n"
   ]
  },
  {
   "cell_type": "markdown",
   "metadata": {},
   "source": [
    "\n",
    "The data analysis reveals several key insights into the behavior of New Yorkers using green taxis. On average, passengers travel 2.83 miles, indicating that most trips fall within a short to medium distance range. The most expensive trip recorded cost $322.35, which likely represents a longer ride, possibly including tolls or extra charges, while the least expensive trip cost only $1.01, suggesting either a very short ride or minimal charges.\n",
    "\n",
    "When it comes to tipping, for trips under 2 miles, the average tip was $1.37, with tips ranging from $0.00 (no tip) to a maximum of $80.00. This suggests that while many riders don’t tip on short trips, a few may leave unusually high tips. For trips of 2 miles or more, the average tip increases to $3.00, with a maximum tip of $75.82, reflecting a tendency for larger tips on longer trips. These patterns highlight that tipping behavior is generally modest but varies significantly depending on trip distance."
   ]
  },
  {
   "cell_type": "markdown",
   "metadata": {},
   "source": [
    "## 8. Findings (3 pts)\n",
    "Based on the preliminary analysis, is this data a viable source that can be used by your team in the future to understand how New Yorkers use these taxis? Justify your response."
   ]
  },
  {
   "cell_type": "markdown",
   "metadata": {},
   "source": [
    " This dataset appears to be a viable source for understanding how New Yorkers use green taxis. The data provides valuable insights into key aspects such as trip distances, fare amounts, tipping behavior, and popular pick-up/drop-off locations. Despite some missing values and the need for data cleaning (e.g., handling invalid trip distances and fare amounts), the overall dataset is comprehensive and covers a large volume of trips.\n",
    "\n",
    "By addressing any inconsistencies and properly cleaning the data, it can be effectively used for further analysis to inform decisions about fleet management, pricing strategies, and customer behavior trends. The insights gained from this dataset will allow the TLC to better understand taxi usage patterns and improve services for both riders and drivers."
   ]
  }
 ],
 "metadata": {
  "kernelspec": {
   "display_name": "Python 3 (ipykernel)",
   "language": "python",
   "name": "python3"
  },
  "language_info": {
   "codemirror_mode": {
    "name": "ipython",
    "version": 3
   },
   "file_extension": ".py",
   "mimetype": "text/x-python",
   "name": "python",
   "nbconvert_exporter": "python",
   "pygments_lexer": "ipython3",
   "version": "3.12.5"
  }
 },
 "nbformat": 4,
 "nbformat_minor": 4
}
