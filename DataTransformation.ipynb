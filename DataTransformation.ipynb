{
 "cells": [
  {
   "cell_type": "markdown",
   "metadata": {},
   "source": [
    "## EDA & Data Transformation \n",
    "\n",
    "This notebook continues the EDA of the GSAF dataset. The outline is as follows:\n",
    "\n",
    "1. <a href='#1.-EDA'>EDA</a>: continue the data preparation steps\n",
    "2. <a href='#2.-Data-Transformation'>Data Transformation</a>: perfrom sorting, subsetting, grouping and aggregating.\n"
   ]
  },
  {
   "cell_type": "markdown",
   "metadata": {},
   "source": [
    "### 1. EDA\n",
    "Question: **Which country has the most Shark attacks?**\n",
    "Data Source: [Global Shark Attack File](https://www.sharkattackfile.net/index.htm)"
   ]
  },
  {
   "cell_type": "code",
   "execution_count": 1,
   "metadata": {},
   "outputs": [],
   "source": [
    "import pandas as pd\n",
    "from matplotlib import pyplot as plt"
   ]
  },
  {
   "cell_type": "code",
   "execution_count": 2,
   "metadata": {},
   "outputs": [
    {
     "name": "stdout",
     "output_type": "stream",
     "text": [
      "There are 6700 rows and 16 columns.\n"
     ]
    }
   ],
   "source": [
    "#load data from a csv file\n",
    "shark_df = pd.read_csv('gsaf.csv')\n",
    "\n",
    "#inspect the dimensons\n",
    "print('There are {} rows and {} columns.'.format(shark_df.shape[0], shark_df.shape[1]))"
   ]
  },
  {
   "cell_type": "markdown",
   "metadata": {},
   "source": [
    "### 1. Identify any Problems with the Data. \n",
    "Scrutinize the data and determine if there are: missing values, variables represented with unsuitable data types, duplicates, unusual values."
   ]
  },
  {
   "cell_type": "code",
   "execution_count": 3,
   "metadata": {},
   "outputs": [
    {
     "data": {
      "text/html": [
       "<div>\n",
       "<style scoped>\n",
       "    .dataframe tbody tr th:only-of-type {\n",
       "        vertical-align: middle;\n",
       "    }\n",
       "\n",
       "    .dataframe tbody tr th {\n",
       "        vertical-align: top;\n",
       "    }\n",
       "\n",
       "    .dataframe thead th {\n",
       "        text-align: right;\n",
       "    }\n",
       "</style>\n",
       "<table border=\"1\" class=\"dataframe\">\n",
       "  <thead>\n",
       "    <tr style=\"text-align: right;\">\n",
       "      <th></th>\n",
       "      <th>Case Number</th>\n",
       "      <th>Date</th>\n",
       "      <th>Year</th>\n",
       "      <th>Type</th>\n",
       "      <th>Country</th>\n",
       "      <th>Area</th>\n",
       "      <th>Location</th>\n",
       "      <th>Activity</th>\n",
       "      <th>Name</th>\n",
       "      <th>Sex</th>\n",
       "      <th>Age</th>\n",
       "      <th>Injury</th>\n",
       "      <th>Fatal (Y/N)</th>\n",
       "      <th>Time</th>\n",
       "      <th>Species</th>\n",
       "      <th>Investigator or Source</th>\n",
       "    </tr>\n",
       "  </thead>\n",
       "  <tbody>\n",
       "    <tr>\n",
       "      <th>0</th>\n",
       "      <td>2021.09.10</td>\n",
       "      <td>10-Sep-2021</td>\n",
       "      <td>2021.0</td>\n",
       "      <td>NaN</td>\n",
       "      <td>EGYPT</td>\n",
       "      <td>NaN</td>\n",
       "      <td>Sidi Abdel Rahmen</td>\n",
       "      <td>Swimming</td>\n",
       "      <td>Mohamed</td>\n",
       "      <td>M</td>\n",
       "      <td>NaN</td>\n",
       "      <td>Laceration to arm caused by metal object</td>\n",
       "      <td>NaN</td>\n",
       "      <td>NaN</td>\n",
       "      <td>No shark invovlement</td>\n",
       "      <td>Dr. M. Fouda &amp; M. Salrm</td>\n",
       "    </tr>\n",
       "    <tr>\n",
       "      <th>1</th>\n",
       "      <td>2021.09.09</td>\n",
       "      <td>09-Sep-2021</td>\n",
       "      <td>2021.0</td>\n",
       "      <td>Unprovoked</td>\n",
       "      <td>USA</td>\n",
       "      <td>Florida</td>\n",
       "      <td>Ponce Inlet, Volusia County</td>\n",
       "      <td>Surfing</td>\n",
       "      <td>Doyle Neilsen</td>\n",
       "      <td>M</td>\n",
       "      <td>!6</td>\n",
       "      <td>Minor injury to right arm</td>\n",
       "      <td>N</td>\n",
       "      <td>13h20</td>\n",
       "      <td>NaN</td>\n",
       "      <td>Daytona Beach News-Journal, 9/14/2021</td>\n",
       "    </tr>\n",
       "    <tr>\n",
       "      <th>2</th>\n",
       "      <td>2021.09.05</td>\n",
       "      <td>05-Sep-2021</td>\n",
       "      <td>2021.0</td>\n",
       "      <td>Unprovoked</td>\n",
       "      <td>AUSTRALIA</td>\n",
       "      <td>New South Wales</td>\n",
       "      <td>Emerald Beach</td>\n",
       "      <td>Surfing</td>\n",
       "      <td>Timothy Thompson</td>\n",
       "      <td>M</td>\n",
       "      <td>31</td>\n",
       "      <td>FATAL</td>\n",
       "      <td>Y</td>\n",
       "      <td>10h30</td>\n",
       "      <td>White xhark</td>\n",
       "      <td>B. Myatt, GSAF</td>\n",
       "    </tr>\n",
       "    <tr>\n",
       "      <th>3</th>\n",
       "      <td>2021.09.03.b</td>\n",
       "      <td>03-Sep-2021</td>\n",
       "      <td>2021.0</td>\n",
       "      <td>Unprovoked</td>\n",
       "      <td>British Overseas Territory</td>\n",
       "      <td>Turks and Caicos</td>\n",
       "      <td>NaN</td>\n",
       "      <td>NaN</td>\n",
       "      <td>male</td>\n",
       "      <td>M</td>\n",
       "      <td>NaN</td>\n",
       "      <td>Wrist bitten</td>\n",
       "      <td>N</td>\n",
       "      <td>NaN</td>\n",
       "      <td>NaN</td>\n",
       "      <td>Anonymous</td>\n",
       "    </tr>\n",
       "    <tr>\n",
       "      <th>4</th>\n",
       "      <td>2021.08.28</td>\n",
       "      <td>28-Aug-2021</td>\n",
       "      <td>2021.0</td>\n",
       "      <td>Unprovoked</td>\n",
       "      <td>USA</td>\n",
       "      <td>Texas</td>\n",
       "      <td>Galveston Island, Galveston County</td>\n",
       "      <td>Boogie boarding</td>\n",
       "      <td>male</td>\n",
       "      <td>M</td>\n",
       "      <td>!!</td>\n",
       "      <td>Lacerations both sides of lower leg immediatel...</td>\n",
       "      <td>N</td>\n",
       "      <td>11h45</td>\n",
       "      <td>NaN</td>\n",
       "      <td>T. Craig, GSAF  &amp; K. McMurray, TrackingShark.com</td>\n",
       "    </tr>\n",
       "  </tbody>\n",
       "</table>\n",
       "</div>"
      ],
      "text/plain": [
       "    Case Number         Date    Year        Type                     Country  \\\n",
       "0    2021.09.10  10-Sep-2021  2021.0         NaN                       EGYPT   \n",
       "1    2021.09.09  09-Sep-2021  2021.0  Unprovoked                         USA   \n",
       "2    2021.09.05  05-Sep-2021  2021.0  Unprovoked                   AUSTRALIA   \n",
       "3  2021.09.03.b  03-Sep-2021  2021.0  Unprovoked  British Overseas Territory   \n",
       "4    2021.08.28  28-Aug-2021  2021.0  Unprovoked                         USA   \n",
       "\n",
       "               Area                            Location         Activity  \\\n",
       "0               NaN                  Sidi Abdel Rahmen          Swimming   \n",
       "1           Florida         Ponce Inlet, Volusia County          Surfing   \n",
       "2   New South Wales                       Emerald Beach          Surfing   \n",
       "3  Turks and Caicos                                 NaN              NaN   \n",
       "4             Texas  Galveston Island, Galveston County  Boogie boarding   \n",
       "\n",
       "               Name Sex  Age  \\\n",
       "0           Mohamed   M  NaN   \n",
       "1     Doyle Neilsen   M   !6   \n",
       "2  Timothy Thompson   M   31   \n",
       "3              male   M  NaN   \n",
       "4              male   M   !!   \n",
       "\n",
       "                                              Injury Fatal (Y/N)   Time  \\\n",
       "0           Laceration to arm caused by metal object         NaN    NaN   \n",
       "1                          Minor injury to right arm           N  13h20   \n",
       "2                                              FATAL           Y  10h30   \n",
       "3                                       Wrist bitten           N    NaN   \n",
       "4  Lacerations both sides of lower leg immediatel...           N  11h45   \n",
       "\n",
       "                 Species                            Investigator or Source  \n",
       "0  No shark invovlement                            Dr. M. Fouda & M. Salrm  \n",
       "1                    NaN             Daytona Beach News-Journal, 9/14/2021  \n",
       "2            White xhark                                    B. Myatt, GSAF  \n",
       "3                    NaN                                         Anonymous  \n",
       "4                    NaN  T. Craig, GSAF  & K. McMurray, TrackingShark.com  "
      ]
     },
     "execution_count": 3,
     "metadata": {},
     "output_type": "execute_result"
    }
   ],
   "source": [
    "#view samples of the data\n",
    "shark_df.head()"
   ]
  },
  {
   "cell_type": "code",
   "execution_count": 4,
   "metadata": {},
   "outputs": [
    {
     "name": "stdout",
     "output_type": "stream",
     "text": [
      "<class 'pandas.core.frame.DataFrame'>\n",
      "RangeIndex: 6700 entries, 0 to 6699\n",
      "Data columns (total 16 columns):\n",
      " #   Column                  Non-Null Count  Dtype  \n",
      "---  ------                  --------------  -----  \n",
      " 0   Case Number             6696 non-null   object \n",
      " 1   Date                    6700 non-null   object \n",
      " 2   Year                    6698 non-null   float64\n",
      " 3   Type                    6685 non-null   object \n",
      " 4   Country                 6650 non-null   object \n",
      " 5   Area                    6228 non-null   object \n",
      " 6   Location                6146 non-null   object \n",
      " 7   Activity                6131 non-null   object \n",
      " 8   Name                    6485 non-null   object \n",
      " 9   Sex                     6126 non-null   object \n",
      " 10  Age                     3769 non-null   object \n",
      " 11  Injury                  6668 non-null   object \n",
      " 12  Fatal (Y/N)             6147 non-null   object \n",
      " 13  Time                    3245 non-null   object \n",
      " 14  Species                 3684 non-null   object \n",
      " 15  Investigator or Source  6681 non-null   object \n",
      "dtypes: float64(1), object(15)\n",
      "memory usage: 837.6+ KB\n"
     ]
    }
   ],
   "source": [
    "shark_df.info()"
   ]
  },
  {
   "cell_type": "markdown",
   "metadata": {},
   "source": [
    "The variables above are not all represented using suitable types. At a minimum, the following changes are needed: \n",
    "- the year should be an integer\n",
    "- the age should be an integer\n",
    "- there are several fields that should be a string. Some of which include: country, area, location\n",
    "\n",
    "`PRACTICE:` Can you identify any variables with the incorrect type?"
   ]
  },
  {
   "cell_type": "markdown",
   "metadata": {},
   "source": [
    "**check for missing values**\n",
    "- we need to count the frequency to determine how much of the data is missing."
   ]
  },
  {
   "cell_type": "code",
   "execution_count": 5,
   "metadata": {},
   "outputs": [
    {
     "data": {
      "text/plain": [
       "Case Number                  4\n",
       "Date                         0\n",
       "Year                         2\n",
       "Type                        15\n",
       "Country                     50\n",
       "Area                       472\n",
       "Location                   554\n",
       "Activity                   569\n",
       "Name                       215\n",
       "Sex                        574\n",
       "Age                       2931\n",
       "Injury                      32\n",
       "Fatal (Y/N)                553\n",
       "Time                      3455\n",
       "Species                   3016\n",
       "Investigator or Source      19\n",
       "dtype: int64"
      ]
     },
     "execution_count": 5,
     "metadata": {},
     "output_type": "execute_result"
    }
   ],
   "source": [
    "#check the frequency of null values in each column\n",
    "shark_df.isnull().sum()\n",
    "\n",
    "#Alternative approach\n",
    "#view the percentage of missing values (instead of the sum)\n",
    "#shark_df.isnull().mean()*100"
   ]
  },
  {
   "cell_type": "markdown",
   "metadata": {},
   "source": [
    "As you can see there are a lot of missing values in the data. If there are a few missing values, we can perform steps to handle them. However, seeing that so much data is missing, we can perform an additional step and determine if there are any patterns between these missing values."
   ]
  },
  {
   "cell_type": "code",
   "execution_count": 6,
   "metadata": {},
   "outputs": [
    {
     "data": {
      "text/plain": [
       "6515    8\n",
       "6558    8\n",
       "5427    8\n",
       "5367    8\n",
       "6523    8\n",
       "       ..\n",
       "2043    0\n",
       "2044    0\n",
       "2045    0\n",
       "2050    0\n",
       "2936    0\n",
       "Length: 6700, dtype: int64"
      ]
     },
     "execution_count": 6,
     "metadata": {},
     "output_type": "execute_result"
    }
   ],
   "source": [
    "shark_df.isnull().sum(axis=1).sort_values(ascending = False) #count the frequency of missing values in each row (i.e. how many columns are empty)\n"
   ]
  },
  {
   "cell_type": "markdown",
   "metadata": {},
   "source": [
    "There are at most 8 variables with missing data. We can adopt a two-fold approach to handle missing data: 1) seeing that we have 16 columns, this means that we could potentially have rows with half the data missing. So lets delete rows with 50% (or more) of its data missing. 2) for the remaining data, if there are missing values, we can perform imputation, which is a technique thats used to replace the missing value with a suitable replacement."
   ]
  },
  {
   "cell_type": "markdown",
   "metadata": {},
   "source": [
    "### 2. Clean and Prepare the Data. \n",
    "We can handle missing data by substituting the NaN with a suitable alternative, such as the value that occurs the most or the average value in that particular column. Alternatively, if the missing values are a widespread issue (i.e. most of the variables are missing), then deletion is often performed.\n",
    "\n",
    "The imputation strategy that you select will vary depending on the kind of data. If the column with the missing value is numeric, we'll often substitute the missing values with its mean or median value for that column. Otherwise, if its a categorical variable, we'll use the mode (i.e. the most frequent category).\n",
    "\n",
    "The example below demonstrates imputation using the `Type` field."
   ]
  },
  {
   "cell_type": "code",
   "execution_count": 7,
   "metadata": {},
   "outputs": [
    {
     "data": {
      "text/plain": [
       "Unprovoked             4908\n",
       "Provoked                613\n",
       "Invalid                 552\n",
       "Watercraft              350\n",
       "Sea Disaster            240\n",
       "NaN                      15\n",
       "Questionable             12\n",
       "Boat                      7\n",
       "Unconfirmed               1\n",
       "Under investigation       1\n",
       "Unverified                1\n",
       "Name: Type, dtype: int64"
      ]
     },
     "execution_count": 7,
     "metadata": {},
     "output_type": "execute_result"
    }
   ],
   "source": [
    "#handle missing data -- imputation\n",
    "shark_df['Type'].value_counts(dropna=False) "
   ]
  },
  {
   "cell_type": "code",
   "execution_count": 8,
   "metadata": {},
   "outputs": [],
   "source": [
    "shark_df.loc[shark_df['Type'].isna(), 'Type'] = 'Unprovoked' "
   ]
  },
  {
   "cell_type": "markdown",
   "metadata": {},
   "source": [
    "In this dataset, most shark attack are usually Unprovoked. The example above replaced all missing `Type` with **Unprovoked** because it was the most frequenlty occuring value. Now that we cleaned the `Type` variable, we can create a bar chart to visualize the data."
   ]
  },
  {
   "cell_type": "code",
   "execution_count": 9,
   "metadata": {},
   "outputs": [
    {
     "data": {
      "image/png": "[encoded data removed]",
      "text/plain": [
       "<Figure size 432x288 with 1 Axes>"
      ]
     },
     "metadata": {
      "needs_background": "light"
     },
     "output_type": "display_data"
    }
   ],
   "source": [
    "#Visualize the `Type` variable\n",
    "shark_df['Type'].value_counts().plot(kind='bar')\n",
    "plt.show()"
   ]
  },
  {
   "cell_type": "code",
   "execution_count": null,
   "metadata": {},
   "outputs": [],
   "source": []
  },
  {
   "cell_type": "code",
   "execution_count": 10,
   "metadata": {},
   "outputs": [],
   "source": [
    "#Handle missing data -- deletion\n",
    "shark_df = shark_df[shark_df.isnull().sum(axis=1) < 4] #delete rows with more than 4 missing variables (in each row)\n"
   ]
  },
  {
   "cell_type": "code",
   "execution_count": 11,
   "metadata": {},
   "outputs": [
    {
     "data": {
      "text/plain": [
       "(5715, 16)"
      ]
     },
     "execution_count": 11,
     "metadata": {},
     "output_type": "execute_result"
    }
   ],
   "source": [
    "shark_df.shape"
   ]
  },
  {
   "cell_type": "markdown",
   "metadata": {},
   "source": [
    "We deleted rows with a high frequency of missing values but you'll notice that we now have ~1000 less rows. This is the cost that associated with data prep and this is the reason that deletion is not often the first course of action.\n",
    "\n",
    "**Let's now convert the fields to a suitable data type**"
   ]
  },
  {
   "cell_type": "code",
   "execution_count": 12,
   "metadata": {},
   "outputs": [],
   "source": [
    "shark_df['Country']  = shark_df['Country'].astype('string')\n",
    "shark_df['Area']     = shark_df['Area'].astype('string')\n",
    "shark_df['Location'] = shark_df['Location'].astype('string')"
   ]
  },
  {
   "cell_type": "code",
   "execution_count": 13,
   "metadata": {},
   "outputs": [],
   "source": [
    "#make year an integer\n",
    "shark_df['Year']  = shark_df['Year'].astype(int)\n",
    "\n",
    "#exclude years that are zero\n",
    "shark_df = shark_df[shark_df['Year'] > 0]"
   ]
  },
  {
   "cell_type": "code",
   "execution_count": null,
   "metadata": {},
   "outputs": [],
   "source": []
  },
  {
   "cell_type": "markdown",
   "metadata": {},
   "source": [
    "\n",
    "### Data Cleaning for textual data\n",
    "The following variables should be categorical: `Sex`, `Injury`, `Fatal (Y/N)`. However, let's cleanup the data and then convert themt to a suitable type"
   ]
  },
  {
   "cell_type": "code",
   "execution_count": 14,
   "metadata": {},
   "outputs": [
    {
     "data": {
      "text/plain": [
       "M      4749\n",
       "F       658\n",
       "M         2\n",
       ".         1\n",
       "lli       1\n",
       "N         1\n",
       "Name: Sex, dtype: int64"
      ]
     },
     "execution_count": 14,
     "metadata": {},
     "output_type": "execute_result"
    }
   ],
   "source": [
    "#lets look at the frequency of the categorical data from above\n",
    "shark_df['Sex'].value_counts()\n"
   ]
  },
  {
   "cell_type": "markdown",
   "metadata": {},
   "source": [
    "Data cleaning is required for the variable called `Sex`. Since 'M' (males) are the most common gender in this dataset, let's cleanup the invalid data `lli`, `N` and `.` and replace them with `M`."
   ]
  },
  {
   "cell_type": "code",
   "execution_count": 15,
   "metadata": {},
   "outputs": [],
   "source": [
    "shark_df.loc[shark_df['Sex'].isin(['lli', 'N', '.', 'M ']), 'Sex'] = 'M' #impute invalid gender data with the most frequently occurring gender 'M'"
   ]
  },
  {
   "cell_type": "code",
   "execution_count": 16,
   "metadata": {},
   "outputs": [
    {
     "data": {
      "text/plain": [
       "M    4754\n",
       "F     658\n",
       "Name: Sex, dtype: int64"
      ]
     },
     "execution_count": 16,
     "metadata": {},
     "output_type": "execute_result"
    }
   ],
   "source": [
    "shark_df['Sex'].value_counts() #this data is now clean (but still contains some missing values)"
   ]
  },
  {
   "cell_type": "markdown",
   "metadata": {},
   "source": [
    "Lets prepare the `Fatal (Y/N)` variable."
   ]
  },
  {
   "cell_type": "code",
   "execution_count": 17,
   "metadata": {},
   "outputs": [
    {
     "data": {
      "text/plain": [
       "N          4173\n",
       "Y          1057\n",
       "UNKNOWN      22\n",
       " N            7\n",
       "M             1\n",
       "F             1\n",
       "2017          1\n",
       "Nq            1\n",
       "Name: Fatal (Y/N), dtype: int64"
      ]
     },
     "execution_count": 17,
     "metadata": {},
     "output_type": "execute_result"
    }
   ],
   "source": [
    "shark_df['Fatal (Y/N)'].value_counts()"
   ]
  },
  {
   "cell_type": "markdown",
   "metadata": {},
   "source": [
    "The variable above contains more than 'Y' or 'N' as options. It contains invalid data: (2017, F, Nq, M), what appears to be a typo ' N' and a new category called 'UNKNOWN'. Let's cleanup the typo ' N' by removing the leading whitespace. After which, any variable that isnt 'Y' or 'N' will be imputed with 'UNKNOWN'. This option is preferred, instead of the most frequent category, because we do not know if the shark attack resulted in a fatality or not (Whereas the other data (Y/N) was confirmed by another source)."
   ]
  },
  {
   "cell_type": "code",
   "execution_count": 18,
   "metadata": {},
   "outputs": [],
   "source": [
    "shark_df.loc[shark_df['Fatal (Y/N)'] == ' N', 'Fatal (Y/N)'] = 'N'\n",
    "\n",
    "#impute missing & invalid data with unknown\n",
    "shark_df.loc[~shark_df['Fatal (Y/N)'].isin(['Y', 'N']), 'Fatal (Y/N)'] = 'UNKNOWN'"
   ]
  },
  {
   "cell_type": "code",
   "execution_count": null,
   "metadata": {},
   "outputs": [],
   "source": []
  },
  {
   "cell_type": "code",
   "execution_count": 19,
   "metadata": {},
   "outputs": [],
   "source": [
    "#convert variables to categorical dtype\n",
    "shark_df['Sex']          = shark_df['Sex'].astype('category') #this is categorical\n",
    "shark_df['Fatal (Y/N)']  = shark_df['Fatal (Y/N)'].astype('category') #this is categorical\n",
    "shark_df['Type']         = shark_df['Type'].astype('category') \n",
    "\n",
    "\n",
    "#convert variables to categorical dtype\n",
    "shark_df['Injury']       = shark_df['Injury'].astype('string') #this contains a description of the injury\n",
    "shark_df['Species']      = shark_df['Species'].astype('string') \n",
    "shark_df['Name']         = shark_df['Name'].astype('string') \n",
    "shark_df['Activity']     = shark_df['Activity'].astype('string') \n",
    "shark_df['Case Number']  = shark_df['Case Number'].astype('string') \n",
    "\n",
    "#convert variable to date\n",
    "shark_df['Date'] = pd.to_datetime(shark_df['Date'], errors = 'coerce')"
   ]
  },
  {
   "cell_type": "code",
   "execution_count": null,
   "metadata": {},
   "outputs": [],
   "source": []
  },
  {
   "cell_type": "code",
   "execution_count": 20,
   "metadata": {},
   "outputs": [],
   "source": [
    "#remove unnecessary column\n",
    "del shark_df['Investigator or Source']"
   ]
  },
  {
   "cell_type": "code",
   "execution_count": 21,
   "metadata": {},
   "outputs": [
    {
     "data": {
      "text/plain": [
       "Case Number            string\n",
       "Date           datetime64[ns]\n",
       "Year                    int64\n",
       "Type                 category\n",
       "Country                string\n",
       "Area                   string\n",
       "Location               string\n",
       "Activity               string\n",
       "Name                   string\n",
       "Sex                  category\n",
       "Age                    object\n",
       "Injury                 string\n",
       "Fatal (Y/N)          category\n",
       "Time                   object\n",
       "Species                string\n",
       "dtype: object"
      ]
     },
     "execution_count": 21,
     "metadata": {},
     "output_type": "execute_result"
    }
   ],
   "source": [
    "shark_df.dtypes #verify if the change occured"
   ]
  },
  {
   "cell_type": "code",
   "execution_count": 22,
   "metadata": {},
   "outputs": [],
   "source": [
    "shark_df.drop_duplicates(inplace=True) #remove any duplicate rows"
   ]
  },
  {
   "cell_type": "code",
   "execution_count": 23,
   "metadata": {},
   "outputs": [
    {
     "data": {
      "text/plain": [
       "(5632, 15)"
      ]
     },
     "execution_count": 23,
     "metadata": {},
     "output_type": "execute_result"
    }
   ],
   "source": [
    "shark_df.shape"
   ]
  },
  {
   "cell_type": "markdown",
   "metadata": {},
   "source": [
    "### 3. Summarize and Visualize the Data. \n",
    "\n",
    "Lets determine which country has the most shark attacks"
   ]
  },
  {
   "cell_type": "code",
   "execution_count": 24,
   "metadata": {},
   "outputs": [
    {
     "data": {
      "image/png": "[encoded data removed]",
      "text/plain": [
       "<Figure size 432x288 with 1 Axes>"
      ]
     },
     "metadata": {
      "needs_background": "light"
     },
     "output_type": "display_data"
    }
   ],
   "source": [
    "top_ten = shark_df['Country'].value_counts().head(10)\n",
    "\n",
    "top_ten.plot(kind='bar')\n",
    "plt.show()"
   ]
  },
  {
   "cell_type": "markdown",
   "metadata": {},
   "source": [
    "This is surprising! The US has the highest number of shark attacks. I'm now curious how many attacks occur each year? "
   ]
  },
  {
   "cell_type": "code",
   "execution_count": null,
   "metadata": {},
   "outputs": [],
   "source": []
  },
  {
   "cell_type": "markdown",
   "metadata": {},
   "source": [
    "## 2. Data Transformation\n",
    "Data Transformation involves various techniques that can be used to manipulate and restructure data in order to get more insights. There are many types of transformations; in this notebook we will discuss: sorting, subsetting, grouping and aggregating. These techniques will be used to learn more about the occurrence of shark attacks in the USA. Other transformation techniques will be introduced in a later module.\n",
    "\n",
    "\n",
    "\n",
    "### Sorting & Subsetting\n",
    "Sorting is a very simple technique that allows you to organize your data in ascending or descending order. This changes the order of the rows so that the data that you need will either be at the top or bottom of the dataframe. Sorting can be performed using the `sort_values()` method and provide the name of the variable that should be used to sort the data. For example, lets sort the `shark_df` using the `Date` variable."
   ]
  },
  {
   "cell_type": "code",
   "execution_count": 25,
   "metadata": {},
   "outputs": [
    {
     "data": {
      "text/html": [
       "<div>\n",
       "<style scoped>\n",
       "    .dataframe tbody tr th:only-of-type {\n",
       "        vertical-align: middle;\n",
       "    }\n",
       "\n",
       "    .dataframe tbody tr th {\n",
       "        vertical-align: top;\n",
       "    }\n",
       "\n",
       "    .dataframe thead th {\n",
       "        text-align: right;\n",
       "    }\n",
       "</style>\n",
       "<table border=\"1\" class=\"dataframe\">\n",
       "  <thead>\n",
       "    <tr style=\"text-align: right;\">\n",
       "      <th></th>\n",
       "      <th>Case Number</th>\n",
       "      <th>Date</th>\n",
       "      <th>Year</th>\n",
       "      <th>Type</th>\n",
       "      <th>Country</th>\n",
       "      <th>Area</th>\n",
       "      <th>Location</th>\n",
       "      <th>Activity</th>\n",
       "      <th>Name</th>\n",
       "      <th>Sex</th>\n",
       "      <th>Age</th>\n",
       "      <th>Injury</th>\n",
       "      <th>Fatal (Y/N)</th>\n",
       "      <th>Time</th>\n",
       "      <th>Species</th>\n",
       "    </tr>\n",
       "  </thead>\n",
       "  <tbody>\n",
       "    <tr>\n",
       "      <th>1</th>\n",
       "      <td>2021.09.09</td>\n",
       "      <td>2021-09-09</td>\n",
       "      <td>2021</td>\n",
       "      <td>Unprovoked</td>\n",
       "      <td>USA</td>\n",
       "      <td>Florida</td>\n",
       "      <td>Ponce Inlet, Volusia County</td>\n",
       "      <td>Surfing</td>\n",
       "      <td>Doyle Neilsen</td>\n",
       "      <td>M</td>\n",
       "      <td>!6</td>\n",
       "      <td>Minor injury to right arm</td>\n",
       "      <td>N</td>\n",
       "      <td>13h20</td>\n",
       "      <td>&lt;NA&gt;</td>\n",
       "    </tr>\n",
       "    <tr>\n",
       "      <th>2</th>\n",
       "      <td>2021.09.05</td>\n",
       "      <td>2021-09-05</td>\n",
       "      <td>2021</td>\n",
       "      <td>Unprovoked</td>\n",
       "      <td>AUSTRALIA</td>\n",
       "      <td>New South Wales</td>\n",
       "      <td>Emerald Beach</td>\n",
       "      <td>Surfing</td>\n",
       "      <td>Timothy Thompson</td>\n",
       "      <td>M</td>\n",
       "      <td>31</td>\n",
       "      <td>FATAL</td>\n",
       "      <td>Y</td>\n",
       "      <td>10h30</td>\n",
       "      <td>White xhark</td>\n",
       "    </tr>\n",
       "    <tr>\n",
       "      <th>5</th>\n",
       "      <td>2021.09.03</td>\n",
       "      <td>2021-09-03</td>\n",
       "      <td>2021</td>\n",
       "      <td>Unprovoked</td>\n",
       "      <td>USA</td>\n",
       "      <td>Louisiana</td>\n",
       "      <td>off Grand Isle</td>\n",
       "      <td>Fishing, fell in water</td>\n",
       "      <td>male</td>\n",
       "      <td>M</td>\n",
       "      <td>64</td>\n",
       "      <td>Severe injury to leg</td>\n",
       "      <td>N</td>\n",
       "      <td>14h00</td>\n",
       "      <td>&lt;NA&gt;</td>\n",
       "    </tr>\n",
       "    <tr>\n",
       "      <th>4</th>\n",
       "      <td>2021.08.28</td>\n",
       "      <td>2021-08-28</td>\n",
       "      <td>2021</td>\n",
       "      <td>Unprovoked</td>\n",
       "      <td>USA</td>\n",
       "      <td>Texas</td>\n",
       "      <td>Galveston Island, Galveston County</td>\n",
       "      <td>Boogie boarding</td>\n",
       "      <td>male</td>\n",
       "      <td>M</td>\n",
       "      <td>!!</td>\n",
       "      <td>Lacerations both sides of lower leg immediatel...</td>\n",
       "      <td>N</td>\n",
       "      <td>11h45</td>\n",
       "      <td>&lt;NA&gt;</td>\n",
       "    </tr>\n",
       "    <tr>\n",
       "      <th>6</th>\n",
       "      <td>2021.08.21</td>\n",
       "      <td>2021-08-21</td>\n",
       "      <td>2021</td>\n",
       "      <td>Unprovoked</td>\n",
       "      <td>USA</td>\n",
       "      <td>Florida</td>\n",
       "      <td>Walton Beach Psrk, St. Lucie County</td>\n",
       "      <td>Surfing</td>\n",
       "      <td>Jeremy Carr</td>\n",
       "      <td>M</td>\n",
       "      <td>41</td>\n",
       "      <td>Left ankle and foot bitten</td>\n",
       "      <td>N</td>\n",
       "      <td>06h40</td>\n",
       "      <td>Bull shark</td>\n",
       "    </tr>\n",
       "  </tbody>\n",
       "</table>\n",
       "</div>"
      ],
      "text/plain": [
       "  Case Number       Date  Year        Type    Country             Area  \\\n",
       "1  2021.09.09 2021-09-09  2021  Unprovoked        USA          Florida   \n",
       "2  2021.09.05 2021-09-05  2021  Unprovoked  AUSTRALIA  New South Wales   \n",
       "5  2021.09.03 2021-09-03  2021  Unprovoked        USA        Louisiana   \n",
       "4  2021.08.28 2021-08-28  2021  Unprovoked        USA            Texas   \n",
       "6  2021.08.21 2021-08-21  2021  Unprovoked        USA          Florida   \n",
       "\n",
       "                              Location                Activity  \\\n",
       "1          Ponce Inlet, Volusia County                 Surfing   \n",
       "2                        Emerald Beach                 Surfing   \n",
       "5                       off Grand Isle  Fishing, fell in water   \n",
       "4   Galveston Island, Galveston County         Boogie boarding   \n",
       "6  Walton Beach Psrk, St. Lucie County                 Surfing   \n",
       "\n",
       "               Name Sex Age  \\\n",
       "1     Doyle Neilsen   M  !6   \n",
       "2  Timothy Thompson   M  31   \n",
       "5              male   M  64   \n",
       "4              male   M  !!   \n",
       "6       Jeremy Carr   M  41   \n",
       "\n",
       "                                              Injury Fatal (Y/N)   Time  \\\n",
       "1                          Minor injury to right arm           N  13h20   \n",
       "2                                              FATAL           Y  10h30   \n",
       "5                               Severe injury to leg           N  14h00   \n",
       "4  Lacerations both sides of lower leg immediatel...           N  11h45   \n",
       "6                         Left ankle and foot bitten           N  06h40   \n",
       "\n",
       "       Species  \n",
       "1         <NA>  \n",
       "2  White xhark  \n",
       "5         <NA>  \n",
       "4         <NA>  \n",
       "6   Bull shark  "
      ]
     },
     "execution_count": 25,
     "metadata": {},
     "output_type": "execute_result"
    }
   ],
   "source": [
    "#sorting the incidents by date\n",
    "shark_df.sort_values('Date', ascending=False).head() "
   ]
  },
  {
   "cell_type": "code",
   "execution_count": 26,
   "metadata": {},
   "outputs": [],
   "source": [
    "#sort using multiple variables\n",
    "#shark_df.sort_values(['Country', 'Activity'], ascending=[True, False]).head()"
   ]
  },
  {
   "cell_type": "markdown",
   "metadata": {},
   "source": [
    "**Subsetting**: allows us to focus our analysis using only the data that we need. Therefore, we can select a subset of the columns and/or rows and the result is usually assigned to a new variable.\n",
    "\n",
    "The example below will subset the data to only identify all attacks within the USA."
   ]
  },
  {
   "cell_type": "code",
   "execution_count": 27,
   "metadata": {},
   "outputs": [
    {
     "data": {
      "text/html": [
       "<div>\n",
       "<style scoped>\n",
       "    .dataframe tbody tr th:only-of-type {\n",
       "        vertical-align: middle;\n",
       "    }\n",
       "\n",
       "    .dataframe tbody tr th {\n",
       "        vertical-align: top;\n",
       "    }\n",
       "\n",
       "    .dataframe thead th {\n",
       "        text-align: right;\n",
       "    }\n",
       "</style>\n",
       "<table border=\"1\" class=\"dataframe\">\n",
       "  <thead>\n",
       "    <tr style=\"text-align: right;\">\n",
       "      <th></th>\n",
       "      <th>Case Number</th>\n",
       "      <th>Date</th>\n",
       "      <th>Year</th>\n",
       "      <th>Type</th>\n",
       "      <th>Country</th>\n",
       "      <th>Area</th>\n",
       "      <th>Location</th>\n",
       "      <th>Activity</th>\n",
       "      <th>Name</th>\n",
       "      <th>Sex</th>\n",
       "      <th>Age</th>\n",
       "      <th>Injury</th>\n",
       "      <th>Fatal (Y/N)</th>\n",
       "      <th>Time</th>\n",
       "      <th>Species</th>\n",
       "    </tr>\n",
       "  </thead>\n",
       "  <tbody>\n",
       "    <tr>\n",
       "      <th>1</th>\n",
       "      <td>2021.09.09</td>\n",
       "      <td>2021-09-09</td>\n",
       "      <td>2021</td>\n",
       "      <td>Unprovoked</td>\n",
       "      <td>USA</td>\n",
       "      <td>Florida</td>\n",
       "      <td>Ponce Inlet, Volusia County</td>\n",
       "      <td>Surfing</td>\n",
       "      <td>Doyle Neilsen</td>\n",
       "      <td>M</td>\n",
       "      <td>!6</td>\n",
       "      <td>Minor injury to right arm</td>\n",
       "      <td>N</td>\n",
       "      <td>13h20</td>\n",
       "      <td>&lt;NA&gt;</td>\n",
       "    </tr>\n",
       "    <tr>\n",
       "      <th>4</th>\n",
       "      <td>2021.08.28</td>\n",
       "      <td>2021-08-28</td>\n",
       "      <td>2021</td>\n",
       "      <td>Unprovoked</td>\n",
       "      <td>USA</td>\n",
       "      <td>Texas</td>\n",
       "      <td>Galveston Island, Galveston County</td>\n",
       "      <td>Boogie boarding</td>\n",
       "      <td>male</td>\n",
       "      <td>M</td>\n",
       "      <td>!!</td>\n",
       "      <td>Lacerations both sides of lower leg immediatel...</td>\n",
       "      <td>N</td>\n",
       "      <td>11h45</td>\n",
       "      <td>&lt;NA&gt;</td>\n",
       "    </tr>\n",
       "    <tr>\n",
       "      <th>5</th>\n",
       "      <td>2021.09.03</td>\n",
       "      <td>2021-09-03</td>\n",
       "      <td>2021</td>\n",
       "      <td>Unprovoked</td>\n",
       "      <td>USA</td>\n",
       "      <td>Louisiana</td>\n",
       "      <td>off Grand Isle</td>\n",
       "      <td>Fishing, fell in water</td>\n",
       "      <td>male</td>\n",
       "      <td>M</td>\n",
       "      <td>64</td>\n",
       "      <td>Severe injury to leg</td>\n",
       "      <td>N</td>\n",
       "      <td>14h00</td>\n",
       "      <td>&lt;NA&gt;</td>\n",
       "    </tr>\n",
       "    <tr>\n",
       "      <th>6</th>\n",
       "      <td>2021.08.21</td>\n",
       "      <td>2021-08-21</td>\n",
       "      <td>2021</td>\n",
       "      <td>Unprovoked</td>\n",
       "      <td>USA</td>\n",
       "      <td>Florida</td>\n",
       "      <td>Walton Beach Psrk, St. Lucie County</td>\n",
       "      <td>Surfing</td>\n",
       "      <td>Jeremy Carr</td>\n",
       "      <td>M</td>\n",
       "      <td>41</td>\n",
       "      <td>Left ankle and foot bitten</td>\n",
       "      <td>N</td>\n",
       "      <td>06h40</td>\n",
       "      <td>Bull shark</td>\n",
       "    </tr>\n",
       "    <tr>\n",
       "      <th>9</th>\n",
       "      <td>2021.08.07.b</td>\n",
       "      <td>2021-08-07</td>\n",
       "      <td>2021</td>\n",
       "      <td>Unprovoked</td>\n",
       "      <td>USA</td>\n",
       "      <td>Florida</td>\n",
       "      <td>New Smyrna Beach, Volusia County</td>\n",
       "      <td>Surfing</td>\n",
       "      <td>male</td>\n",
       "      <td>M</td>\n",
       "      <td>35</td>\n",
       "      <td>Minor cuts to right foot and ankle</td>\n",
       "      <td>N</td>\n",
       "      <td>10h00</td>\n",
       "      <td>&lt;NA&gt;</td>\n",
       "    </tr>\n",
       "  </tbody>\n",
       "</table>\n",
       "</div>"
      ],
      "text/plain": [
       "    Case Number       Date  Year        Type Country       Area  \\\n",
       "1    2021.09.09 2021-09-09  2021  Unprovoked     USA    Florida   \n",
       "4    2021.08.28 2021-08-28  2021  Unprovoked     USA      Texas   \n",
       "5    2021.09.03 2021-09-03  2021  Unprovoked     USA  Louisiana   \n",
       "6    2021.08.21 2021-08-21  2021  Unprovoked     USA    Florida   \n",
       "9  2021.08.07.b 2021-08-07  2021  Unprovoked     USA    Florida   \n",
       "\n",
       "                              Location                Activity           Name  \\\n",
       "1          Ponce Inlet, Volusia County                 Surfing  Doyle Neilsen   \n",
       "4   Galveston Island, Galveston County         Boogie boarding           male   \n",
       "5                       off Grand Isle  Fishing, fell in water           male   \n",
       "6  Walton Beach Psrk, St. Lucie County                 Surfing    Jeremy Carr   \n",
       "9     New Smyrna Beach, Volusia County                 Surfing           male   \n",
       "\n",
       "  Sex Age                                             Injury Fatal (Y/N)  \\\n",
       "1   M  !6                          Minor injury to right arm           N   \n",
       "4   M  !!  Lacerations both sides of lower leg immediatel...           N   \n",
       "5   M  64                               Severe injury to leg           N   \n",
       "6   M  41                         Left ankle and foot bitten           N   \n",
       "9   M  35                 Minor cuts to right foot and ankle           N   \n",
       "\n",
       "    Time     Species  \n",
       "1  13h20        <NA>  \n",
       "4  11h45        <NA>  \n",
       "5  14h00        <NA>  \n",
       "6  06h40  Bull shark  \n",
       "9  10h00        <NA>  "
      ]
     },
     "execution_count": 27,
     "metadata": {},
     "output_type": "execute_result"
    }
   ],
   "source": [
    "#subsetting: only extract events that occurred in the USA\n",
    "us_shark_df = shark_df[shark_df['Country'] == 'USA']\n",
    "\n",
    "us_shark_df.head() #quickly view the data\n",
    "\n"
   ]
  },
  {
   "cell_type": "markdown",
   "metadata": {},
   "source": [
    "Now that we know which attacks occurred within the USA, we can perform other data transformation techniques to learn more about them."
   ]
  },
  {
   "cell_type": "markdown",
   "metadata": {},
   "source": [
    "### Grouping & Aggregating\n",
    "This allows you to perform custom analysis and/or create summary statistics to compare different groups of data.\n",
    "\n",
    "<img src='https://www.w3resource.com/w3r_images/pandas-groupby-split-apply-combine.svg'></img>\n",
    "\n",
    "<p style=\"font-size:8px; text-align:center\">Credit: https://www.w3resource.com/python-exercises/pandas/groupby/index.php</p>"
   ]
  },
  {
   "cell_type": "code",
   "execution_count": 28,
   "metadata": {},
   "outputs": [
    {
     "data": {
      "text/html": [
       "<div>\n",
       "<style scoped>\n",
       "    .dataframe tbody tr th:only-of-type {\n",
       "        vertical-align: middle;\n",
       "    }\n",
       "\n",
       "    .dataframe tbody tr th {\n",
       "        vertical-align: top;\n",
       "    }\n",
       "\n",
       "    .dataframe thead th {\n",
       "        text-align: right;\n",
       "    }\n",
       "</style>\n",
       "<table border=\"1\" class=\"dataframe\">\n",
       "  <thead>\n",
       "    <tr style=\"text-align: right;\">\n",
       "      <th></th>\n",
       "      <th>Year</th>\n",
       "      <th>Case Number</th>\n",
       "    </tr>\n",
       "  </thead>\n",
       "  <tbody>\n",
       "    <tr>\n",
       "      <th>55</th>\n",
       "      <td>1901</td>\n",
       "      <td>1</td>\n",
       "    </tr>\n",
       "    <tr>\n",
       "      <th>56</th>\n",
       "      <td>1902</td>\n",
       "      <td>3</td>\n",
       "    </tr>\n",
       "    <tr>\n",
       "      <th>57</th>\n",
       "      <td>1903</td>\n",
       "      <td>2</td>\n",
       "    </tr>\n",
       "    <tr>\n",
       "      <th>58</th>\n",
       "      <td>1904</td>\n",
       "      <td>2</td>\n",
       "    </tr>\n",
       "    <tr>\n",
       "      <th>59</th>\n",
       "      <td>1905</td>\n",
       "      <td>5</td>\n",
       "    </tr>\n",
       "    <tr>\n",
       "      <th>...</th>\n",
       "      <td>...</td>\n",
       "      <td>...</td>\n",
       "    </tr>\n",
       "    <tr>\n",
       "      <th>167</th>\n",
       "      <td>2017</td>\n",
       "      <td>64</td>\n",
       "    </tr>\n",
       "    <tr>\n",
       "      <th>168</th>\n",
       "      <td>2018</td>\n",
       "      <td>42</td>\n",
       "    </tr>\n",
       "    <tr>\n",
       "      <th>169</th>\n",
       "      <td>2019</td>\n",
       "      <td>56</td>\n",
       "    </tr>\n",
       "    <tr>\n",
       "      <th>170</th>\n",
       "      <td>2020</td>\n",
       "      <td>48</td>\n",
       "    </tr>\n",
       "    <tr>\n",
       "      <th>171</th>\n",
       "      <td>2021</td>\n",
       "      <td>47</td>\n",
       "    </tr>\n",
       "  </tbody>\n",
       "</table>\n",
       "<p>117 rows × 2 columns</p>\n",
       "</div>"
      ],
      "text/plain": [
       "     Year  Case Number\n",
       "55   1901            1\n",
       "56   1902            3\n",
       "57   1903            2\n",
       "58   1904            2\n",
       "59   1905            5\n",
       "..    ...          ...\n",
       "167  2017           64\n",
       "168  2018           42\n",
       "169  2019           56\n",
       "170  2020           48\n",
       "171  2021           47\n",
       "\n",
       "[117 rows x 2 columns]"
      ]
     },
     "execution_count": 28,
     "metadata": {},
     "output_type": "execute_result"
    }
   ],
   "source": [
    "#count the number of shark attack that occur in the USA each year\n",
    "annual_attacks = us_shark_df.groupby(['Year'], as_index=False)['Case Number'].count()\n",
    "annual_attacks = annual_attacks[annual_attacks['Year'] > 1900]\n",
    "annual_attacks"
   ]
  },
  {
   "cell_type": "code",
   "execution_count": 29,
   "metadata": {},
   "outputs": [
    {
     "data": {
      "image/png": "[encoded data removed]",
      "text/plain": [
       "<Figure size 432x288 with 1 Axes>"
      ]
     },
     "metadata": {
      "needs_background": "light"
     },
     "output_type": "display_data"
    }
   ],
   "source": [
    "annual_attacks.plot(x='Year', y='Case Number')\n",
    "plt.show()"
   ]
  },
  {
   "cell_type": "code",
   "execution_count": 30,
   "metadata": {},
   "outputs": [
    {
     "data": {
      "text/html": [
       "<div>\n",
       "<style scoped>\n",
       "    .dataframe tbody tr th:only-of-type {\n",
       "        vertical-align: middle;\n",
       "    }\n",
       "\n",
       "    .dataframe tbody tr th {\n",
       "        vertical-align: top;\n",
       "    }\n",
       "\n",
       "    .dataframe thead th {\n",
       "        text-align: right;\n",
       "    }\n",
       "</style>\n",
       "<table border=\"1\" class=\"dataframe\">\n",
       "  <thead>\n",
       "    <tr style=\"text-align: right;\">\n",
       "      <th></th>\n",
       "      <th>Year</th>\n",
       "      <th>Area</th>\n",
       "      <th>Case Number</th>\n",
       "    </tr>\n",
       "  </thead>\n",
       "  <tbody>\n",
       "    <tr>\n",
       "      <th>508</th>\n",
       "      <td>2003</td>\n",
       "      <td>Florida</td>\n",
       "      <td>45</td>\n",
       "    </tr>\n",
       "    <tr>\n",
       "      <th>542</th>\n",
       "      <td>2007</td>\n",
       "      <td>Florida</td>\n",
       "      <td>39</td>\n",
       "    </tr>\n",
       "    <tr>\n",
       "      <th>491</th>\n",
       "      <td>2001</td>\n",
       "      <td>Florida</td>\n",
       "      <td>38</td>\n",
       "    </tr>\n",
       "    <tr>\n",
       "      <th>549</th>\n",
       "      <td>2008</td>\n",
       "      <td>Florida</td>\n",
       "      <td>36</td>\n",
       "    </tr>\n",
       "    <tr>\n",
       "      <th>485</th>\n",
       "      <td>2000</td>\n",
       "      <td>Florida</td>\n",
       "      <td>35</td>\n",
       "    </tr>\n",
       "    <tr>\n",
       "      <th>...</th>\n",
       "      <td>...</td>\n",
       "      <td>...</td>\n",
       "      <td>...</td>\n",
       "    </tr>\n",
       "    <tr>\n",
       "      <th>310</th>\n",
       "      <td>1966</td>\n",
       "      <td>Delaware</td>\n",
       "      <td>1</td>\n",
       "    </tr>\n",
       "    <tr>\n",
       "      <th>308</th>\n",
       "      <td>1965</td>\n",
       "      <td>Texas</td>\n",
       "      <td>1</td>\n",
       "    </tr>\n",
       "    <tr>\n",
       "      <th>307</th>\n",
       "      <td>1965</td>\n",
       "      <td>Puerto Rico</td>\n",
       "      <td>1</td>\n",
       "    </tr>\n",
       "    <tr>\n",
       "      <th>306</th>\n",
       "      <td>1965</td>\n",
       "      <td>New Jersey</td>\n",
       "      <td>1</td>\n",
       "    </tr>\n",
       "    <tr>\n",
       "      <th>683</th>\n",
       "      <td>2021</td>\n",
       "      <td>Texas</td>\n",
       "      <td>1</td>\n",
       "    </tr>\n",
       "  </tbody>\n",
       "</table>\n",
       "<p>589 rows × 3 columns</p>\n",
       "</div>"
      ],
      "text/plain": [
       "     Year         Area  Case Number\n",
       "508  2003      Florida           45\n",
       "542  2007      Florida           39\n",
       "491  2001      Florida           38\n",
       "549  2008      Florida           36\n",
       "485  2000      Florida           35\n",
       "..    ...          ...          ...\n",
       "310  1966     Delaware            1\n",
       "308  1965        Texas            1\n",
       "307  1965  Puerto Rico            1\n",
       "306  1965   New Jersey            1\n",
       "683  2021        Texas            1\n",
       "\n",
       "[589 rows x 3 columns]"
      ]
     },
     "execution_count": 30,
     "metadata": {},
     "output_type": "execute_result"
    }
   ],
   "source": [
    "#analyze the annual number of attacks for each Area in the USA. \n",
    "annual_attacks_by_area = us_shark_df.groupby(['Year', 'Area'], as_index=False)['Case Number'].count()\n",
    "annual_attacks_by_area = annual_attacks_by_area[annual_attacks_by_area['Year'] > 1900]\n",
    "\n",
    "\n",
    "#which Area has the highest number of shark attacks\n",
    "annual_attacks_by_area.sort_values('Case Number', ascending=False)#sort the results"
   ]
  },
  {
   "cell_type": "code",
   "execution_count": 31,
   "metadata": {},
   "outputs": [],
   "source": [
    "#other summary stats\n",
    "annual_attacks_by_area_2 = us_shark_df.groupby(['Year', 'Area'], as_index=False).agg({'Date': [min, max], 'Case Number': 'count'})\n",
    "#annual_attacks_by_area_2"
   ]
  },
  {
   "cell_type": "code",
   "execution_count": 32,
   "metadata": {},
   "outputs": [
    {
     "data": {
      "text/html": [
       "<div>\n",
       "<style scoped>\n",
       "    .dataframe tbody tr th:only-of-type {\n",
       "        vertical-align: middle;\n",
       "    }\n",
       "\n",
       "    .dataframe tbody tr th {\n",
       "        vertical-align: top;\n",
       "    }\n",
       "\n",
       "    .dataframe thead tr th {\n",
       "        text-align: left;\n",
       "    }\n",
       "</style>\n",
       "<table border=\"1\" class=\"dataframe\">\n",
       "  <thead>\n",
       "    <tr>\n",
       "      <th></th>\n",
       "      <th>Year</th>\n",
       "      <th>Area</th>\n",
       "      <th colspan=\"2\" halign=\"left\">Date</th>\n",
       "      <th>Case Number</th>\n",
       "    </tr>\n",
       "    <tr>\n",
       "      <th></th>\n",
       "      <th></th>\n",
       "      <th></th>\n",
       "      <th>min</th>\n",
       "      <th>max</th>\n",
       "      <th>count</th>\n",
       "    </tr>\n",
       "  </thead>\n",
       "  <tbody>\n",
       "    <tr>\n",
       "      <th>672</th>\n",
       "      <td>2021</td>\n",
       "      <td>BAHAMAS</td>\n",
       "      <td>2021-07-04</td>\n",
       "      <td>2021-07-04</td>\n",
       "      <td>1</td>\n",
       "    </tr>\n",
       "    <tr>\n",
       "      <th>673</th>\n",
       "      <td>2021</td>\n",
       "      <td>California</td>\n",
       "      <td>2021-06-26</td>\n",
       "      <td>2021-07-21</td>\n",
       "      <td>3</td>\n",
       "    </tr>\n",
       "    <tr>\n",
       "      <th>674</th>\n",
       "      <td>2021</td>\n",
       "      <td>Florida</td>\n",
       "      <td>2021-01-02</td>\n",
       "      <td>2021-09-09</td>\n",
       "      <td>26</td>\n",
       "    </tr>\n",
       "    <tr>\n",
       "      <th>675</th>\n",
       "      <td>2021</td>\n",
       "      <td>Georgia</td>\n",
       "      <td>2021-07-27</td>\n",
       "      <td>2021-07-27</td>\n",
       "      <td>1</td>\n",
       "    </tr>\n",
       "    <tr>\n",
       "      <th>676</th>\n",
       "      <td>2021</td>\n",
       "      <td>Hawaii</td>\n",
       "      <td>2021-01-02</td>\n",
       "      <td>2021-05-15</td>\n",
       "      <td>6</td>\n",
       "    </tr>\n",
       "    <tr>\n",
       "      <th>677</th>\n",
       "      <td>2021</td>\n",
       "      <td>Louisiana</td>\n",
       "      <td>2021-09-03</td>\n",
       "      <td>2021-09-03</td>\n",
       "      <td>1</td>\n",
       "    </tr>\n",
       "    <tr>\n",
       "      <th>678</th>\n",
       "      <td>2021</td>\n",
       "      <td>Maryland</td>\n",
       "      <td>2021-08-02</td>\n",
       "      <td>2021-08-02</td>\n",
       "      <td>1</td>\n",
       "    </tr>\n",
       "    <tr>\n",
       "      <th>679</th>\n",
       "      <td>2021</td>\n",
       "      <td>Maui</td>\n",
       "      <td>2021-02-02</td>\n",
       "      <td>2021-02-02</td>\n",
       "      <td>1</td>\n",
       "    </tr>\n",
       "    <tr>\n",
       "      <th>680</th>\n",
       "      <td>2021</td>\n",
       "      <td>New York</td>\n",
       "      <td>2021-07-26</td>\n",
       "      <td>2021-07-26</td>\n",
       "      <td>1</td>\n",
       "    </tr>\n",
       "    <tr>\n",
       "      <th>681</th>\n",
       "      <td>2021</td>\n",
       "      <td>North Carolina</td>\n",
       "      <td>2021-04-17</td>\n",
       "      <td>2021-07-27</td>\n",
       "      <td>3</td>\n",
       "    </tr>\n",
       "    <tr>\n",
       "      <th>682</th>\n",
       "      <td>2021</td>\n",
       "      <td>South Carolina</td>\n",
       "      <td>2021-05-23</td>\n",
       "      <td>2021-08-03</td>\n",
       "      <td>2</td>\n",
       "    </tr>\n",
       "    <tr>\n",
       "      <th>683</th>\n",
       "      <td>2021</td>\n",
       "      <td>Texas</td>\n",
       "      <td>2021-08-28</td>\n",
       "      <td>2021-08-28</td>\n",
       "      <td>1</td>\n",
       "    </tr>\n",
       "  </tbody>\n",
       "</table>\n",
       "</div>"
      ],
      "text/plain": [
       "     Year            Area       Date            Case Number\n",
       "                                 min        max       count\n",
       "672  2021         BAHAMAS 2021-07-04 2021-07-04           1\n",
       "673  2021      California 2021-06-26 2021-07-21           3\n",
       "674  2021         Florida 2021-01-02 2021-09-09          26\n",
       "675  2021         Georgia 2021-07-27 2021-07-27           1\n",
       "676  2021          Hawaii 2021-01-02 2021-05-15           6\n",
       "677  2021       Louisiana 2021-09-03 2021-09-03           1\n",
       "678  2021        Maryland 2021-08-02 2021-08-02           1\n",
       "679  2021            Maui 2021-02-02 2021-02-02           1\n",
       "680  2021        New York 2021-07-26 2021-07-26           1\n",
       "681  2021  North Carolina 2021-04-17 2021-07-27           3\n",
       "682  2021  South Carolina 2021-05-23 2021-08-03           2\n",
       "683  2021           Texas 2021-08-28 2021-08-28           1"
      ]
     },
     "execution_count": 32,
     "metadata": {},
     "output_type": "execute_result"
    }
   ],
   "source": [
    "annual_attacks_by_area_2[annual_attacks_by_area_2['Year'] == 2021]"
   ]
  },
  {
   "cell_type": "code",
   "execution_count": null,
   "metadata": {},
   "outputs": [],
   "source": []
  }
 ],
 "metadata": {
  "kernelspec": {
   "display_name": "Python 3",
   "language": "python",
   "name": "python3"
  },
  "language_info": {
   "codemirror_mode": {
    "name": "ipython",
    "version": 3
   },
   "file_extension": ".py",
   "mimetype": "text/x-python",
   "name": "python",
   "nbconvert_exporter": "python",
   "pygments_lexer": "ipython3",
   "version": "3.8.5"
  }
 },
 "nbformat": 4,
 "nbformat_minor": 4
}
