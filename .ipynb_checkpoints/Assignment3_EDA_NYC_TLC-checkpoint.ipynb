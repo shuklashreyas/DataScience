{
 "cells": [
  {
   "cell_type": "markdown",
   "metadata": {},
   "source": [
    "# DS 3000 - Assignment 3\n",
    "\n",
    "**Student Name**: [Enter your name here]\n",
    "\n",
    "**Date**: [Enter the date]\n",
    "\n",
    "\n",
    "### Submission Instructions\n",
    "Submit this `ipynb` file to canvas.\n",
    "\n",
    "The `ipynb` format stores outputs from the last time you ran the notebook.  (When you open a notebook it has the figures and outputs of the last time you ran it too).  To ensure that your submitted `ipynb` file represents your latest code, make sure to give a fresh run `Kernel > Restart & Run All` just before uploading the `ipynb` file to Canvas.\n",
    "\n",
    "### Academic Integrity\n",
    "\n",
    "**Writing your homework is an individual effort.**  You may discuss general python problems with other students but under no circumstances should you observe another student's code which was written for this assignment, from this year or past years.  Pop into office hours or DM us in MS Teams if you have a specific question about your work or if you would like another pair of eyes or talk through your code.\n",
    "\n",
    "Don't forget to cite websites which helped you solve a problem in a unique way.  You can do this in markdown near the code or with a simple one-line comment. You do not need to cite the official python documentation.\n",
    "\n",
    "**Documentation / style counts for credit**  Please refer to the Pep-8 style, to improve the readability and consistency of your Python code. For more information, read the following article [How to Write Beautiful Python Code With PEP 8](https://realpython.com/python-pep8/) or ask your TA's for tips.\n",
    "\n",
    "**NOTE:<span style='color:red'> Write python expressions to answer ALL questions below and ensure that you use the `print()` function to display the output.</span>** Each question should be answered in a new code cell. For example, your solution for question 1.1 should be in a different code cell from your solution for question 1.2."
   ]
  },
  {
   "cell_type": "code",
   "execution_count": null,
   "metadata": {},
   "outputs": [],
   "source": []
  },
  {
   "cell_type": "markdown",
   "metadata": {},
   "source": [
    "## Data Science Problem (50 pts)\n",
    "### Instructions\n",
    "\n",
    "You are hired as a Data Scientist for the NYC Taxi and Limousine Commission (TLC) and this company routinely collects trip data from all licensed cabs in NY. Your team would like to use this data in the future to understand how New Yorkers use these taxis. Your first assignment is to **analyze the data of the Green Taxis, and determine if its a viable source.**\n",
    "\n",
    "Your supervisor has requested that you perform your analysis using data from February 2023 and would like for you to present your findings during the next team meeting. Use a Jupyter notebook to explain your data wrangling and analytical steps to your colleagues. \n",
    "\n",
    "**Data & Documentation**\n",
    "\n",
    "- **Data Source:** https://d37ci6vzurychx.cloudfront.net/trip-data/green_tripdata_2023-02.parquet\n",
    "- **Data Dictionary:** [Green Trips Data Dictionary](https://www1.nyc.gov/assets/tlc/downloads/pdf/data_dictionary_trip_records_green.pdf).\n",
    "\n",
    "The TLC trip record data and a description of the initiative can be found at the following link: https://www1.nyc.gov/site/tlc/about/tlc-trip-record-data.page\n",
    "\n",
    "**`Note:`** Ensure that you explain the results from each question.\n",
    "\n",
    "\n",
    "**In this assignment you will use the Pandas library. Pandas allows us to load data that's stored in a various formats, e.g. excel, csv, txt, parquet, etc. In this assignment, you will learn to read data in parquet format which is one of the preferred formats when working with `Big Data`. [Click here to learn more about parquet files](https://towardsdatascience.com/csv-files-for-storage-no-thanks-theres-a-better-option-72c78a414d1d)**\n",
    "\n",
    "I also provided starter code below to help you to read the data in parquet format. First, you'll need to install a new library called *fastparquet*."
   ]
  },
  {
   "cell_type": "code",
   "execution_count": 6,
   "metadata": {},
   "outputs": [
    {
     "name": "stdout",
     "output_type": "stream",
     "text": [
      "Requirement already satisfied: fastparquet in /opt/homebrew/Cellar/jupyterlab/4.2.3/libexec/lib/python3.12/site-packages (2024.5.0)\n",
      "Requirement already satisfied: pandas>=1.5.0 in /opt/homebrew/Cellar/jupyterlab/4.2.3/libexec/lib/python3.12/site-packages (from fastparquet) (2.2.3)\n",
      "Requirement already satisfied: numpy in /opt/homebrew/Cellar/jupyterlab/4.2.3/libexec/lib/python3.12/site-packages (from fastparquet) (2.1.1)\n",
      "Requirement already satisfied: cramjam>=2.3 in /opt/homebrew/Cellar/jupyterlab/4.2.3/libexec/lib/python3.12/site-packages (from fastparquet) (2.8.3)\n",
      "Requirement already satisfied: fsspec in /opt/homebrew/Cellar/jupyterlab/4.2.3/libexec/lib/python3.12/site-packages (from fastparquet) (2024.9.0)\n",
      "Requirement already satisfied: packaging in /opt/homebrew/Cellar/jupyterlab/4.2.3/libexec/lib/python3.12/site-packages (from fastparquet) (24.1)\n",
      "Requirement already satisfied: python-dateutil>=2.8.2 in /opt/homebrew/Cellar/jupyterlab/4.2.3/libexec/lib/python3.12/site-packages (from pandas>=1.5.0->fastparquet) (2.9.0.post0)\n",
      "Requirement already satisfied: pytz>=2020.1 in /opt/homebrew/Cellar/jupyterlab/4.2.3/libexec/lib/python3.12/site-packages (from pandas>=1.5.0->fastparquet) (2024.2)\n",
      "Requirement already satisfied: tzdata>=2022.7 in /opt/homebrew/Cellar/jupyterlab/4.2.3/libexec/lib/python3.12/site-packages (from pandas>=1.5.0->fastparquet) (2024.1)\n",
      "Requirement already satisfied: six>=1.5 in /opt/homebrew/Cellar/jupyterlab/4.2.3/libexec/lib/python3.12/site-packages (from python-dateutil>=2.8.2->pandas>=1.5.0->fastparquet) (1.16.0)\n",
      "Note: you may need to restart the kernel to use updated packages.\n"
     ]
    }
   ],
   "source": [
    "#run this cell to install the fast parquet library\n",
    "%pip install fastparquet"
   ]
  },
  {
   "cell_type": "markdown",
   "metadata": {},
   "source": [
    "## 1. Load the data\n",
    "Load the NYC Green Taxi Trip Records data directly from the URL into a data frame called tripdata_df. "
   ]
  },
  {
   "cell_type": "code",
   "execution_count": 7,
   "metadata": {},
   "outputs": [],
   "source": [
    "import pandas as pd\n",
    "import numpy as np\n",
    "np.float_ = np.float64\n",
    "#let's load the data into a dataframe\n",
    "\n",
    "tripdata_df = pd.read_parquet(path = 'https://d37ci6vzurychx.cloudfront.net/trip-data/green_tripdata_2023-02.parquet', #provide the URL to the data source\n",
    "                      engine = 'fastparquet')\n",
    "\n",
    "#Note: you'll notice two new things. 1) We are using a new function called `read_parquet()` which indicates that we are \n",
    "#      reading data in parquet format. 2) We used the fastparquet library as the engine. \n",
    "#      That's it! Pandas will load the data into a dataframe. You can now use the dataframe for EDA.\n",
    "\n",
    "# Reminder: How does Pandas read other file formats?\n",
    "# 1. Excel files: pd.read_excel()\n",
    "# 2. CSV Files: pd.read_csv()\n",
    "# ... and now you know how to read parquet files using pd.read_parquet()\n"
   ]
  },
  {
   "cell_type": "markdown",
   "metadata": {},
   "source": [
    "## 2. Inspect the Data (5 pts) \n",
    "Inspect the data and perform the following: \n",
    "1. display the dimensions, and indicate if the variables have suitable types.\n",
    "2. convert all variables to suitable types"
   ]
  },
  {
   "cell_type": "code",
   "execution_count": null,
   "metadata": {
    "vscode": {
     "languageId": "lua"
    }
   },
   "outputs": [],
   "source": [
    "# BEGIN: Inspect the data\n",
    "\n",
    "# 1. Display the dimensions and data types\n",
    "print(\"Dimensions of the dataframe:\", tripdata_df.shape)\n",
    "print(\"\\nData types of the dataframe columns:\\n\", tripdata_df.dtypes)\n",
    "\n",
    "# 2. Convert all variables to suitable types\n",
    "tripdata_df['VendorID'] = tripdata_df['VendorID'].astype('category')\n",
    "tripdata_df['store_and_fwd_flag'] = tripdata_df['store_and_fwd_flag'].astype('category')\n",
    "tripdata_df['RatecodeID'] = tripdata_df['RatecodeID'].astype('category')\n",
    "tripdata_df['PULocationID'] = tripdata_df['PULocationID'].astype('int64')\n",
    "tripdata_df['DOLocationID'] = tripdata_df['DOLocationID'].astype('int64')\n",
    "tripdata_df['passenger_count'] = tripdata_df['passenger_count'].astype('int64')\n",
    "tripdata_df['payment_type'] = tripdata_df['payment_type'].astype('category')\n",
    "tripdata_df['trip_type'] = tripdata_df['trip_type'].astype('category')\n",
    "\n",
    "# Display the updated data types\n",
    "print(\"\\nUpdated data types of the dataframe columns:\\n\", tripdata_df.dtypes)\n",
    "\n",
    "# END: Inspect the data"
   ]
  },
  {
   "cell_type": "markdown",
   "metadata": {},
   "source": [
    "## 3. Types of Data (2 pts) \n",
    "Are there any categorical data in this dataset. If they exist, demonstrate at least two categorical variables and indicate if they are nominal or ordinal (hint: read the data dictionary above which describes all fields in the data)"
   ]
  },
  {
   "cell_type": "code",
   "execution_count": null,
   "metadata": {},
   "outputs": [],
   "source": []
  },
  {
   "cell_type": "markdown",
   "metadata": {},
   "source": [
    "## 4. Missing Values (10 pts) \n",
    "Evaluate the frequency of missing values in the dataset and perform the following:\n",
    "1. explain if missing values are an isolated case or a widespread issue? \n",
    "2. what method would you recommend to handle missing data?\n",
    "3. write the suitable code to handle the missing values."
   ]
  },
  {
   "cell_type": "code",
   "execution_count": null,
   "metadata": {},
   "outputs": [],
   "source": []
  },
  {
   "cell_type": "markdown",
   "metadata": {},
   "source": [
    "## 5. Invalid Data (10 pts) \n",
    "Explore the data to determine if there are any invalid values and perform the following: \n",
    "1. demonstrate at least three issues that you found. **`NOTE`: The issues that you found should not include any aspects from the previous questions.**\n",
    "2. write suitable code to handle the invalid data that you found."
   ]
  },
  {
   "cell_type": "code",
   "execution_count": null,
   "metadata": {},
   "outputs": [],
   "source": []
  },
  {
   "cell_type": "markdown",
   "metadata": {},
   "source": [
    "<span style='color:red'>**Answer the following questions using the prepared data.**</span>"
   ]
  },
  {
   "cell_type": "markdown",
   "metadata": {},
   "source": [
    "## 6. Data Visualization (10 pts) \n",
    "Create bar charts that show: \n",
    "1. the most common way that New Yorkers request/hail a cab. \n",
    "2. the most common pick-up locations (display the top 5 locations). \n",
    "3. the most common drop-off locations (display the top 5 locations). \n",
    "\n",
    "Explain each chart."
   ]
  },
  {
   "cell_type": "code",
   "execution_count": null,
   "metadata": {},
   "outputs": [],
   "source": []
  },
  {
   "cell_type": "markdown",
   "metadata": {},
   "source": [
    "## 7. Data Analysis (10 pts)\n",
    "Write suitable code to answer the following:\n",
    "1. On average, how far do New Yorkers usually travel using these taxis?\n",
    "2. What is the most expensive and least expensive trip? \n",
    "3. What is the minimum, average and maximum **tip amount** for all trips that are 1) under 2 miles and 2) over 2 miles (i.e. >= 2)? \n",
    "\n",
    "Explain the results.\n",
    "\n",
    "*`TIP`: If the answers from your analysis in this question contains erroneous or invalid numeric values, this means that the data needs to be cleaned to ensure that the analytical results are coherent.*"
   ]
  },
  {
   "cell_type": "code",
   "execution_count": null,
   "metadata": {},
   "outputs": [],
   "source": []
  },
  {
   "cell_type": "markdown",
   "metadata": {},
   "source": [
    "## 8. Findings (3 pts)\n",
    "Based on the preliminary analysis, is this data a viable source that can be used by your team in the future to understand how New Yorkers use these taxis? Justify your response."
   ]
  },
  {
   "cell_type": "code",
   "execution_count": null,
   "metadata": {},
   "outputs": [],
   "source": []
  }
 ],
 "metadata": {
  "kernelspec": {
   "display_name": "Python 3 (ipykernel)",
   "language": "python",
   "name": "python3"
  },
  "language_info": {
   "codemirror_mode": {
    "name": "ipython",
    "version": 3
   },
   "file_extension": ".py",
   "mimetype": "text/x-python",
   "name": "python",
   "nbconvert_exporter": "python",
   "pygments_lexer": "ipython3",
   "version": "3.12.5"
  }
 },
 "nbformat": 4,
 "nbformat_minor": 4
}
