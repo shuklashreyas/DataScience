{
 "cells": [
  {
   "cell_type": "markdown",
   "metadata": {},
   "source": [
    "## EDA Question: \n",
    "**Which country has the most Shark attacks?**\n",
    "Data Source: [Global Shark Attack File](https://www.sharkattackfile.net/index.htm)"
   ]
  },
  {
   "cell_type": "code",
   "execution_count": 1,
   "metadata": {},
   "outputs": [],
   "source": [
    "import pandas as pd"
   ]
  },
  {
   "cell_type": "code",
   "execution_count": 2,
   "metadata": {},
   "outputs": [
    {
     "name": "stdout",
     "output_type": "stream",
     "text": [
      "There are 6700 rows and 16 columns.\n"
     ]
    }
   ],
   "source": [
    "#load data from a csv file\n",
    "shark_df = pd.read_csv('gsaf.csv')\n",
    "\n",
    "#inspect the dimensons\n",
    "print('There are {} rows and {} columns.'.format(shark_df.shape[0], shark_df.shape[1]))"
   ]
  },
  {
   "cell_type": "markdown",
   "metadata": {},
   "source": [
    "## 1. Identify any Problems with the Data. \n",
    "Scrutinize the data and determine if there are: missing values, variables represented with unsuitable data types, duplicates, unusual values."
   ]
  },
  {
   "cell_type": "code",
   "execution_count": 3,
   "metadata": {},
   "outputs": [
    {
     "data": {
      "text/html": [
       "<div>\n",
       "<style scoped>\n",
       "    .dataframe tbody tr th:only-of-type {\n",
       "        vertical-align: middle;\n",
       "    }\n",
       "\n",
       "    .dataframe tbody tr th {\n",
       "        vertical-align: top;\n",
       "    }\n",
       "\n",
       "    .dataframe thead th {\n",
       "        text-align: right;\n",
       "    }\n",
       "</style>\n",
       "<table border=\"1\" class=\"dataframe\">\n",
       "  <thead>\n",
       "    <tr style=\"text-align: right;\">\n",
       "      <th></th>\n",
       "      <th>Case Number</th>\n",
       "      <th>Date</th>\n",
       "      <th>Year</th>\n",
       "      <th>Type</th>\n",
       "      <th>Country</th>\n",
       "      <th>Area</th>\n",
       "      <th>Location</th>\n",
       "      <th>Activity</th>\n",
       "      <th>Name</th>\n",
       "      <th>Sex</th>\n",
       "      <th>Age</th>\n",
       "      <th>Injury</th>\n",
       "      <th>Fatal (Y/N)</th>\n",
       "      <th>Time</th>\n",
       "      <th>Species</th>\n",
       "      <th>Investigator or Source</th>\n",
       "    </tr>\n",
       "  </thead>\n",
       "  <tbody>\n",
       "    <tr>\n",
       "      <th>0</th>\n",
       "      <td>2021.09.10</td>\n",
       "      <td>10-Sep-2021</td>\n",
       "      <td>2021.0</td>\n",
       "      <td>NaN</td>\n",
       "      <td>EGYPT</td>\n",
       "      <td>NaN</td>\n",
       "      <td>Sidi Abdel Rahmen</td>\n",
       "      <td>Swimming</td>\n",
       "      <td>Mohamed</td>\n",
       "      <td>M</td>\n",
       "      <td>NaN</td>\n",
       "      <td>Laceration to arm caused by metal object</td>\n",
       "      <td>NaN</td>\n",
       "      <td>NaN</td>\n",
       "      <td>No shark invovlement</td>\n",
       "      <td>Dr. M. Fouda &amp; M. Salrm</td>\n",
       "    </tr>\n",
       "    <tr>\n",
       "      <th>1</th>\n",
       "      <td>2021.09.09</td>\n",
       "      <td>09-Sep-2021</td>\n",
       "      <td>2021.0</td>\n",
       "      <td>Unprovoked</td>\n",
       "      <td>USA</td>\n",
       "      <td>Florida</td>\n",
       "      <td>Ponce Inlet, Volusia County</td>\n",
       "      <td>Surfing</td>\n",
       "      <td>Doyle Neilsen</td>\n",
       "      <td>M</td>\n",
       "      <td>!6</td>\n",
       "      <td>Minor injury to right arm</td>\n",
       "      <td>N</td>\n",
       "      <td>13h20</td>\n",
       "      <td>NaN</td>\n",
       "      <td>Daytona Beach News-Journal, 9/14/2021</td>\n",
       "    </tr>\n",
       "    <tr>\n",
       "      <th>2</th>\n",
       "      <td>2021.09.05</td>\n",
       "      <td>05-Sep-2021</td>\n",
       "      <td>2021.0</td>\n",
       "      <td>Unprovoked</td>\n",
       "      <td>AUSTRALIA</td>\n",
       "      <td>New South Wales</td>\n",
       "      <td>Emerald Beach</td>\n",
       "      <td>Surfing</td>\n",
       "      <td>Timothy Thompson</td>\n",
       "      <td>M</td>\n",
       "      <td>31</td>\n",
       "      <td>FATAL</td>\n",
       "      <td>Y</td>\n",
       "      <td>10h30</td>\n",
       "      <td>White xhark</td>\n",
       "      <td>B. Myatt, GSAF</td>\n",
       "    </tr>\n",
       "    <tr>\n",
       "      <th>3</th>\n",
       "      <td>2021.09.03.b</td>\n",
       "      <td>03-Sep-2021</td>\n",
       "      <td>2021.0</td>\n",
       "      <td>Unprovoked</td>\n",
       "      <td>British Overseas Territory</td>\n",
       "      <td>Turks and Caicos</td>\n",
       "      <td>NaN</td>\n",
       "      <td>NaN</td>\n",
       "      <td>male</td>\n",
       "      <td>M</td>\n",
       "      <td>NaN</td>\n",
       "      <td>Wrist bitten</td>\n",
       "      <td>N</td>\n",
       "      <td>NaN</td>\n",
       "      <td>NaN</td>\n",
       "      <td>Anonymous</td>\n",
       "    </tr>\n",
       "    <tr>\n",
       "      <th>4</th>\n",
       "      <td>2021.08.28</td>\n",
       "      <td>28-Aug-2021</td>\n",
       "      <td>2021.0</td>\n",
       "      <td>Unprovoked</td>\n",
       "      <td>USA</td>\n",
       "      <td>Texas</td>\n",
       "      <td>Galveston Island, Galveston County</td>\n",
       "      <td>Boogie boarding</td>\n",
       "      <td>male</td>\n",
       "      <td>M</td>\n",
       "      <td>!!</td>\n",
       "      <td>Lacerations both sides of lower leg immediatel...</td>\n",
       "      <td>N</td>\n",
       "      <td>11h45</td>\n",
       "      <td>NaN</td>\n",
       "      <td>T. Craig, GSAF  &amp; K. McMurray, TrackingShark.com</td>\n",
       "    </tr>\n",
       "  </tbody>\n",
       "</table>\n",
       "</div>"
      ],
      "text/plain": [
       "    Case Number         Date    Year        Type                     Country  \\\n",
       "0    2021.09.10  10-Sep-2021  2021.0         NaN                       EGYPT   \n",
       "1    2021.09.09  09-Sep-2021  2021.0  Unprovoked                         USA   \n",
       "2    2021.09.05  05-Sep-2021  2021.0  Unprovoked                   AUSTRALIA   \n",
       "3  2021.09.03.b  03-Sep-2021  2021.0  Unprovoked  British Overseas Territory   \n",
       "4    2021.08.28  28-Aug-2021  2021.0  Unprovoked                         USA   \n",
       "\n",
       "               Area                            Location         Activity  \\\n",
       "0               NaN                  Sidi Abdel Rahmen          Swimming   \n",
       "1           Florida         Ponce Inlet, Volusia County          Surfing   \n",
       "2   New South Wales                       Emerald Beach          Surfing   \n",
       "3  Turks and Caicos                                 NaN              NaN   \n",
       "4             Texas  Galveston Island, Galveston County  Boogie boarding   \n",
       "\n",
       "               Name Sex  Age  \\\n",
       "0           Mohamed   M  NaN   \n",
       "1     Doyle Neilsen   M   !6   \n",
       "2  Timothy Thompson   M   31   \n",
       "3              male   M  NaN   \n",
       "4              male   M   !!   \n",
       "\n",
       "                                              Injury Fatal (Y/N)   Time  \\\n",
       "0           Laceration to arm caused by metal object         NaN    NaN   \n",
       "1                          Minor injury to right arm           N  13h20   \n",
       "2                                              FATAL           Y  10h30   \n",
       "3                                       Wrist bitten           N    NaN   \n",
       "4  Lacerations both sides of lower leg immediatel...           N  11h45   \n",
       "\n",
       "                 Species                            Investigator or Source  \n",
       "0  No shark invovlement                            Dr. M. Fouda & M. Salrm  \n",
       "1                    NaN             Daytona Beach News-Journal, 9/14/2021  \n",
       "2            White xhark                                    B. Myatt, GSAF  \n",
       "3                    NaN                                         Anonymous  \n",
       "4                    NaN  T. Craig, GSAF  & K. McMurray, TrackingShark.com  "
      ]
     },
     "execution_count": 3,
     "metadata": {},
     "output_type": "execute_result"
    }
   ],
   "source": [
    "#view samples of the data\n",
    "shark_df.head()"
   ]
  },
  {
   "cell_type": "code",
   "execution_count": 4,
   "metadata": {},
   "outputs": [
    {
     "name": "stdout",
     "output_type": "stream",
     "text": [
      "<class 'pandas.core.frame.DataFrame'>\n",
      "RangeIndex: 6700 entries, 0 to 6699\n",
      "Data columns (total 16 columns):\n",
      " #   Column                  Non-Null Count  Dtype  \n",
      "---  ------                  --------------  -----  \n",
      " 0   Case Number             6696 non-null   object \n",
      " 1   Date                    6700 non-null   object \n",
      " 2   Year                    6698 non-null   float64\n",
      " 3   Type                    6685 non-null   object \n",
      " 4   Country                 6650 non-null   object \n",
      " 5   Area                    6228 non-null   object \n",
      " 6   Location                6146 non-null   object \n",
      " 7   Activity                6131 non-null   object \n",
      " 8   Name                    6485 non-null   object \n",
      " 9   Sex                     6126 non-null   object \n",
      " 10  Age                     3769 non-null   object \n",
      " 11  Injury                  6668 non-null   object \n",
      " 12  Fatal (Y/N)             6147 non-null   object \n",
      " 13  Time                    3245 non-null   object \n",
      " 14  Species                 3684 non-null   object \n",
      " 15  Investigator or Source  6681 non-null   object \n",
      "dtypes: float64(1), object(15)\n",
      "memory usage: 837.6+ KB\n"
     ]
    }
   ],
   "source": [
    "shark_df.info()"
   ]
  },
  {
   "cell_type": "markdown",
   "metadata": {},
   "source": [
    "The variables above are not all represented using suitable types. At a minimum, the following changes are needed: \n",
    "- the year should be an integer\n",
    "- the age should be an integer\n",
    "- there are several fields that should be a string. Some of which include: country, area, location\n",
    "\n",
    "`PRACTICE:` Can you identify any variables with the incorrect type?"
   ]
  },
  {
   "cell_type": "markdown",
   "metadata": {},
   "source": [
    "**check for missing values**\n",
    "- we need to count the frequency to determine how much of the data is missing."
   ]
  },
  {
   "cell_type": "code",
   "execution_count": 5,
   "metadata": {},
   "outputs": [
    {
     "data": {
      "text/plain": [
       "Case Number                  4\n",
       "Date                         0\n",
       "Year                         2\n",
       "Type                        15\n",
       "Country                     50\n",
       "Area                       472\n",
       "Location                   554\n",
       "Activity                   569\n",
       "Name                       215\n",
       "Sex                        574\n",
       "Age                       2931\n",
       "Injury                      32\n",
       "Fatal (Y/N)                553\n",
       "Time                      3455\n",
       "Species                   3016\n",
       "Investigator or Source      19\n",
       "dtype: int64"
      ]
     },
     "execution_count": 5,
     "metadata": {},
     "output_type": "execute_result"
    }
   ],
   "source": [
    "#check the frequency of null values in each column\n",
    "shark_df.isnull().sum()\n",
    "\n",
    "#Alternative approach\n",
    "#view the percentage of missing values (instead of the sum)\n",
    "#shark_df.isnull().mean()*100"
   ]
  },
  {
   "cell_type": "markdown",
   "metadata": {},
   "source": [
    "As you can see there are a lot of missing values in the data. If there are a few missing values, we can perform steps to handle them. However, seeing that so much data is missing, we can perform an additional step and determine if there are any patterns between these missing values."
   ]
  },
  {
   "cell_type": "code",
   "execution_count": 6,
   "metadata": {},
   "outputs": [
    {
     "data": {
      "text/plain": [
       "6515    8\n",
       "6558    8\n",
       "5427    8\n",
       "5367    8\n",
       "6523    8\n",
       "       ..\n",
       "2043    0\n",
       "2044    0\n",
       "2045    0\n",
       "2050    0\n",
       "2936    0\n",
       "Length: 6700, dtype: int64"
      ]
     },
     "execution_count": 6,
     "metadata": {},
     "output_type": "execute_result"
    }
   ],
   "source": [
    "shark_df.isnull().sum(axis=1).sort_values(ascending = False) #count the frequency of missing values in each row (i.e. how many columns are empty)\n"
   ]
  },
  {
   "cell_type": "markdown",
   "metadata": {},
   "source": [
    "There are at most 8 variables with missing data. We can adopt a two-fold approach to handle missing data: 1) seeing that we have 16 columns, this means that we could potentially have rows with half the data missing. So lets delete rows with 50% (or more) of its data missing. 2) for the remaining data, if there are missing values, we can perform imputation, which is a technique thats used to replace the missing value with a suitable replacement."
   ]
  },
  {
   "cell_type": "markdown",
   "metadata": {},
   "source": [
    "## 2. Clean and Prepare the Data. \n",
    "We can handle missing data by substituting the NaN with a suitable alternative, such as the value that occurs the most or the average value in that particular column. Alternatively, if the missing values are a widespread issue (i.e. most of the variables are missing), then deletion is often performed.\n",
    "\n",
    "The imputation strategy that you select will vary depending on the kind of data. If the column with the missing value is numeric, we'll often substitute the missing values with its mean or median value for that column. Otherwise, if its a categorical variable, we'll use the mode (i.e. the most frequent category).\n",
    "\n",
    "The example below demonstrates imputation using the `Type` field."
   ]
  },
  {
   "cell_type": "code",
   "execution_count": 7,
   "metadata": {},
   "outputs": [
    {
     "data": {
      "text/plain": [
       "Unprovoked             4908\n",
       "Provoked                613\n",
       "Invalid                 552\n",
       "Watercraft              350\n",
       "Sea Disaster            240\n",
       "NaN                      15\n",
       "Questionable             12\n",
       "Boat                      7\n",
       "Unconfirmed               1\n",
       "Unverified                1\n",
       "Under investigation       1\n",
       "Name: Type, dtype: int64"
      ]
     },
     "execution_count": 7,
     "metadata": {},
     "output_type": "execute_result"
    }
   ],
   "source": [
    "#handle missing data -- imputation\n",
    "shark_df['Type'].value_counts(dropna=False) "
   ]
  },
  {
   "cell_type": "code",
   "execution_count": 8,
   "metadata": {},
   "outputs": [],
   "source": [
    "shark_df.loc[shark_df['Type'].isna(), 'Type'] = 'Unprovoked' #Note: there was a typo is the code from the lecture which is corrected here"
   ]
  },
  {
   "cell_type": "markdown",
   "metadata": {},
   "source": [
    "In this dataset, most shark attack are usually Unprovoked. The example above replaced all missing `Type` with **Unprovoked** because it was the most frequenlty occuring value. Now that we cleaned the `Type` variable, we can create a bar chart to visualize the data."
   ]
  },
  {
   "cell_type": "code",
   "execution_count": 9,
   "metadata": {},
   "outputs": [
    {
     "data": {
      "text/plain": [
       "<AxesSubplot:>"
      ]
     },
     "execution_count": 9,
     "metadata": {},
     "output_type": "execute_result"
    },
    {
     "data": {
      "image/png": "[encoded data removed]",
      "text/plain": [
       "<Figure size 432x288 with 1 Axes>"
      ]
     },
     "metadata": {
      "needs_background": "light"
     },
     "output_type": "display_data"
    }
   ],
   "source": [
    "shark_df['Type'].value_counts().plot(kind='bar')"
   ]
  },
  {
   "cell_type": "code",
   "execution_count": null,
   "metadata": {},
   "outputs": [],
   "source": []
  },
  {
   "cell_type": "code",
   "execution_count": 10,
   "metadata": {},
   "outputs": [],
   "source": [
    "#PRACTICE: Can you identify any suitable field than can be imputed?"
   ]
  },
  {
   "cell_type": "code",
   "execution_count": 11,
   "metadata": {},
   "outputs": [],
   "source": [
    "#Handle missing data -- deletion\n",
    "shark_df = shark_df[shark_df.isnull().sum(axis=1) < 4] #delete rows with 4 or more missing variables (in each row)\n"
   ]
  },
  {
   "cell_type": "code",
   "execution_count": 12,
   "metadata": {},
   "outputs": [
    {
     "data": {
      "text/plain": [
       "(5715, 16)"
      ]
     },
     "execution_count": 12,
     "metadata": {},
     "output_type": "execute_result"
    }
   ],
   "source": [
    "shark_df.shape"
   ]
  },
  {
   "cell_type": "markdown",
   "metadata": {},
   "source": [
    "We deleted rows with a high frequency of missing values but you'll notice that we now have ~1000 less rows. This is the cost that associated with data prep and this is the reason that deletion is not often the first course of action.\n",
    "\n",
    "**Let's now convert the fields to a suitable data type**"
   ]
  },
  {
   "cell_type": "code",
   "execution_count": 13,
   "metadata": {},
   "outputs": [],
   "source": [
    "shark_df['Country']  = shark_df['Country'].astype('string')\n",
    "shark_df['Area']     = shark_df['Area'].astype('string')\n",
    "shark_df['Location'] = shark_df['Location'].astype('string')"
   ]
  },
  {
   "cell_type": "code",
   "execution_count": 14,
   "metadata": {},
   "outputs": [],
   "source": [
    "#make year an integer\n",
    "shark_df['Year']  = shark_df['Year'].astype(int)"
   ]
  },
  {
   "cell_type": "code",
   "execution_count": null,
   "metadata": {},
   "outputs": [],
   "source": []
  },
  {
   "cell_type": "code",
   "execution_count": 15,
   "metadata": {},
   "outputs": [
    {
     "data": {
      "text/plain": [
       "Case Number               object\n",
       "Date                      object\n",
       "Year                       int64\n",
       "Type                      object\n",
       "Country                   string\n",
       "Area                      string\n",
       "Location                  string\n",
       "Activity                  object\n",
       "Name                      object\n",
       "Sex                       object\n",
       "Age                       object\n",
       "Injury                    object\n",
       "Fatal (Y/N)               object\n",
       "Time                      object\n",
       "Species                   object\n",
       "Investigator or Source    object\n",
       "dtype: object"
      ]
     },
     "execution_count": 15,
     "metadata": {},
     "output_type": "execute_result"
    }
   ],
   "source": [
    "shark_df.dtypes #verify if the change occured"
   ]
  },
  {
   "cell_type": "code",
   "execution_count": 16,
   "metadata": {},
   "outputs": [],
   "source": [
    "shark_df.drop_duplicates(inplace=True) #remove any duplicate rows"
   ]
  },
  {
   "cell_type": "code",
   "execution_count": 17,
   "metadata": {},
   "outputs": [
    {
     "data": {
      "text/plain": [
       "(5715, 16)"
      ]
     },
     "execution_count": 17,
     "metadata": {},
     "output_type": "execute_result"
    }
   ],
   "source": [
    "shark_df.shape"
   ]
  },
  {
   "cell_type": "code",
   "execution_count": null,
   "metadata": {},
   "outputs": [],
   "source": []
  },
  {
   "cell_type": "code",
   "execution_count": 18,
   "metadata": {},
   "outputs": [],
   "source": [
    "#PRACTICE: Can you identify any variables with the incorrect type?"
   ]
  },
  {
   "cell_type": "code",
   "execution_count": null,
   "metadata": {},
   "outputs": [],
   "source": []
  },
  {
   "cell_type": "markdown",
   "metadata": {},
   "source": [
    "## 3. Summarize and Visualize the Data. \n",
    "\n",
    "Lets determine which country has the most shark attacks"
   ]
  },
  {
   "cell_type": "code",
   "execution_count": 19,
   "metadata": {},
   "outputs": [
    {
     "data": {
      "text/plain": [
       "<AxesSubplot:>"
      ]
     },
     "execution_count": 19,
     "metadata": {},
     "output_type": "execute_result"
    },
    {
     "data": {
      "image/png": "[encoded data removed]",
      "text/plain": [
       "<Figure size 432x288 with 1 Axes>"
      ]
     },
     "metadata": {
      "needs_background": "light"
     },
     "output_type": "display_data"
    }
   ],
   "source": [
    "top_ten = shark_df['Country'].value_counts().head(10)\n",
    "\n",
    "top_ten.plot(kind='bar')"
   ]
  },
  {
   "cell_type": "markdown",
   "metadata": {},
   "source": [
    "This is surprising! The US has the higherst number of shark attacks. I'm now curious how many attacks occur each year? This EDA isn't over, we'll continue the next time."
   ]
  },
  {
   "cell_type": "code",
   "execution_count": 20,
   "metadata": {},
   "outputs": [],
   "source": [
    "\n",
    "#PRACTICE: which country has the most fatal shark attacks?\n"
   ]
  }
 ],
 "metadata": {
  "kernelspec": {
   "display_name": "Python 3",
   "language": "python",
   "name": "python3"
  },
  "language_info": {
   "codemirror_mode": {
    "name": "ipython",
    "version": 3
   },
   "file_extension": ".py",
   "mimetype": "text/x-python",
   "name": "python",
   "nbconvert_exporter": "python",
   "pygments_lexer": "ipython3",
   "version": "3.8.5"
  }
 },
 "nbformat": 4,
 "nbformat_minor": 4
}
